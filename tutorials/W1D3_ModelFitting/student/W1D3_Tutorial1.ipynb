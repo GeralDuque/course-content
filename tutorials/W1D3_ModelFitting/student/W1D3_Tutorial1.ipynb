{
  "nbformat": 4,
  "nbformat_minor": 0,
  "metadata": {
    "celltoolbar": "Slideshow",
    "colab": {
      "name": "W1D3_Tutorial1",
      "provenance": [],
      "collapsed_sections": [],
      "include_colab_link": true
    },
    "kernel": {
      "display_name": "Python 3",
      "language": "python",
      "name": "python3"
    },
    "kernelspec": {
      "display_name": "Python 3",
      "language": "python",
      "name": "python3"
    },
    "language_info": {
      "codemirror_mode": {
        "name": "ipython",
        "version": 3
      },
      "file_extension": ".py",
      "mimetype": "text/x-python",
      "name": "python",
      "nbconvert_exporter": "python",
      "pygments_lexer": "ipython3",
      "version": "3.7.10"
    },
    "widgets": {
      "application/vnd.jupyter.widget-state+json": {
        "9836a087f5f747b88d04585efad69156": {
          "model_module": "@jupyter-widgets/controls",
          "model_name": "TabModel",
          "state": {
            "_view_name": "TabView",
            "_dom_classes": [],
            "_titles": {
              "0": "Youtube",
              "1": "Bilibili"
            },
            "_model_name": "TabModel",
            "_view_module": "@jupyter-widgets/controls",
            "selected_index": 0,
            "_model_module_version": "1.5.0",
            "_view_count": null,
            "_view_module_version": "1.5.0",
            "box_style": "",
            "layout": "IPY_MODEL_57bafce5bd2242d79ed850bad9f09d5f",
            "_model_module": "@jupyter-widgets/controls",
            "children": [
              "IPY_MODEL_531eba52eb76493c8a23c715147a7c81",
              "IPY_MODEL_09695dd3b4904cc891094ce69f1d81bf"
            ]
          }
        },
        "57bafce5bd2242d79ed850bad9f09d5f": {
          "model_module": "@jupyter-widgets/base",
          "model_name": "LayoutModel",
          "state": {
            "_view_name": "LayoutView",
            "grid_template_rows": null,
            "right": null,
            "justify_content": null,
            "_view_module": "@jupyter-widgets/base",
            "overflow": null,
            "_model_module_version": "1.2.0",
            "_view_count": null,
            "flex_flow": null,
            "width": null,
            "min_width": null,
            "border": null,
            "align_items": null,
            "bottom": null,
            "_model_module": "@jupyter-widgets/base",
            "top": null,
            "grid_column": null,
            "overflow_y": null,
            "overflow_x": null,
            "grid_auto_flow": null,
            "grid_area": null,
            "grid_template_columns": null,
            "flex": null,
            "_model_name": "LayoutModel",
            "justify_items": null,
            "grid_row": null,
            "max_height": null,
            "align_content": null,
            "visibility": null,
            "align_self": null,
            "height": null,
            "min_height": null,
            "padding": null,
            "grid_auto_rows": null,
            "grid_gap": null,
            "max_width": null,
            "order": null,
            "_view_module_version": "1.2.0",
            "grid_template_areas": null,
            "object_position": null,
            "object_fit": null,
            "grid_auto_columns": null,
            "margin": null,
            "display": null,
            "left": null
          }
        },
        "531eba52eb76493c8a23c715147a7c81": {
          "model_module": "@jupyter-widgets/output",
          "model_name": "OutputModel",
          "state": {
            "_view_name": "OutputView",
            "msg_id": "",
            "_dom_classes": [],
            "_model_name": "OutputModel",
            "outputs": [
              {
                "output_type": "stream",
                "metadata": {
                  "tags": []
                },
                "text": "Video available at https://youtube.com/watch?v=HumajfjJ37E\n",
                "stream": "stdout"
              },
              {
                "output_type": "display_data",
                "metadata": {
                  "tags": []
                },
                "text/html": "\n        <iframe\n            width=\"854\"\n            height=\"480\"\n            src=\"https://www.youtube.com/embed/HumajfjJ37E?fs=1&rel=0\"\n            frameborder=\"0\"\n            allowfullscreen\n        ></iframe>\n        ",
                "text/plain": "<IPython.lib.display.YouTubeVideo at 0x7f49df592cd0>",
                "image/jpeg": "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\n"
              }
            ],
            "_view_module": "@jupyter-widgets/output",
            "_model_module_version": "1.0.0",
            "_view_count": null,
            "_view_module_version": "1.0.0",
            "layout": "IPY_MODEL_fa6f294c40104a16b08940c1c0f6bc52",
            "_model_module": "@jupyter-widgets/output"
          }
        },
        "09695dd3b4904cc891094ce69f1d81bf": {
          "model_module": "@jupyter-widgets/output",
          "model_name": "OutputModel",
          "state": {
            "_view_name": "OutputView",
            "msg_id": "",
            "_dom_classes": [],
            "_model_name": "OutputModel",
            "outputs": [
              {
                "output_type": "stream",
                "metadata": {
                  "tags": []
                },
                "text": "Video available at https://www.bilibili.com/video/BV1tA411e7NW\n",
                "stream": "stdout"
              },
              {
                "output_type": "display_data",
                "metadata": {
                  "tags": []
                },
                "text/html": "\n        <iframe\n            width=\"854\"\n            height=\"480\"\n            src=\"https://player.bilibili.com/player.html?bvid=BV1tA411e7NW&page=1?fs=1\"\n            frameborder=\"0\"\n            allowfullscreen\n        ></iframe>\n        ",
                "text/plain": "<__main__.BiliVideo at 0x7f49df5d3b50>"
              }
            ],
            "_view_module": "@jupyter-widgets/output",
            "_model_module_version": "1.0.0",
            "_view_count": null,
            "_view_module_version": "1.0.0",
            "layout": "IPY_MODEL_67d3d11a06dc4c0db73046990533d9cf",
            "_model_module": "@jupyter-widgets/output"
          }
        },
        "fa6f294c40104a16b08940c1c0f6bc52": {
          "model_module": "@jupyter-widgets/base",
          "model_name": "LayoutModel",
          "state": {
            "_view_name": "LayoutView",
            "grid_template_rows": null,
            "right": null,
            "justify_content": null,
            "_view_module": "@jupyter-widgets/base",
            "overflow": null,
            "_model_module_version": "1.2.0",
            "_view_count": null,
            "flex_flow": null,
            "width": null,
            "min_width": null,
            "border": null,
            "align_items": null,
            "bottom": null,
            "_model_module": "@jupyter-widgets/base",
            "top": null,
            "grid_column": null,
            "overflow_y": null,
            "overflow_x": null,
            "grid_auto_flow": null,
            "grid_area": null,
            "grid_template_columns": null,
            "flex": null,
            "_model_name": "LayoutModel",
            "justify_items": null,
            "grid_row": null,
            "max_height": null,
            "align_content": null,
            "visibility": null,
            "align_self": null,
            "height": null,
            "min_height": null,
            "padding": null,
            "grid_auto_rows": null,
            "grid_gap": null,
            "max_width": null,
            "order": null,
            "_view_module_version": "1.2.0",
            "grid_template_areas": null,
            "object_position": null,
            "object_fit": null,
            "grid_auto_columns": null,
            "margin": null,
            "display": null,
            "left": null
          }
        },
        "67d3d11a06dc4c0db73046990533d9cf": {
          "model_module": "@jupyter-widgets/base",
          "model_name": "LayoutModel",
          "state": {
            "_view_name": "LayoutView",
            "grid_template_rows": null,
            "right": null,
            "justify_content": null,
            "_view_module": "@jupyter-widgets/base",
            "overflow": null,
            "_model_module_version": "1.2.0",
            "_view_count": null,
            "flex_flow": null,
            "width": null,
            "min_width": null,
            "border": null,
            "align_items": null,
            "bottom": null,
            "_model_module": "@jupyter-widgets/base",
            "top": null,
            "grid_column": null,
            "overflow_y": null,
            "overflow_x": null,
            "grid_auto_flow": null,
            "grid_area": null,
            "grid_template_columns": null,
            "flex": null,
            "_model_name": "LayoutModel",
            "justify_items": null,
            "grid_row": null,
            "max_height": null,
            "align_content": null,
            "visibility": null,
            "align_self": null,
            "height": null,
            "min_height": null,
            "padding": null,
            "grid_auto_rows": null,
            "grid_gap": null,
            "max_width": null,
            "order": null,
            "_view_module_version": "1.2.0",
            "grid_template_areas": null,
            "object_position": null,
            "object_fit": null,
            "grid_auto_columns": null,
            "margin": null,
            "display": null,
            "left": null
          }
        },
        "b3de1d67424b47518f9733a31a2761bc": {
          "model_module": "@jupyter-widgets/controls",
          "model_name": "VBoxModel",
          "state": {
            "_view_name": "VBoxView",
            "_dom_classes": [
              "widget-interact"
            ],
            "_model_name": "VBoxModel",
            "_view_module": "@jupyter-widgets/controls",
            "_model_module_version": "1.5.0",
            "_view_count": null,
            "_view_module_version": "1.5.0",
            "box_style": "",
            "layout": "IPY_MODEL_04b658ffeb0c4f51b41f3387b1dec903",
            "_model_module": "@jupyter-widgets/controls",
            "children": [
              "IPY_MODEL_89c549cd4a2f4ffb82197d4c0222d472",
              "IPY_MODEL_95f4b75f6a884dc79633c7a1ed0c66b3"
            ]
          }
        },
        "04b658ffeb0c4f51b41f3387b1dec903": {
          "model_module": "@jupyter-widgets/base",
          "model_name": "LayoutModel",
          "state": {
            "_view_name": "LayoutView",
            "grid_template_rows": null,
            "right": null,
            "justify_content": null,
            "_view_module": "@jupyter-widgets/base",
            "overflow": null,
            "_model_module_version": "1.2.0",
            "_view_count": null,
            "flex_flow": null,
            "width": null,
            "min_width": null,
            "border": null,
            "align_items": null,
            "bottom": null,
            "_model_module": "@jupyter-widgets/base",
            "top": null,
            "grid_column": null,
            "overflow_y": null,
            "overflow_x": null,
            "grid_auto_flow": null,
            "grid_area": null,
            "grid_template_columns": null,
            "flex": null,
            "_model_name": "LayoutModel",
            "justify_items": null,
            "grid_row": null,
            "max_height": null,
            "align_content": null,
            "visibility": null,
            "align_self": null,
            "height": null,
            "min_height": null,
            "padding": null,
            "grid_auto_rows": null,
            "grid_gap": null,
            "max_width": null,
            "order": null,
            "_view_module_version": "1.2.0",
            "grid_template_areas": null,
            "object_position": null,
            "object_fit": null,
            "grid_auto_columns": null,
            "margin": null,
            "display": null,
            "left": null
          }
        },
        "89c549cd4a2f4ffb82197d4c0222d472": {
          "model_module": "@jupyter-widgets/controls",
          "model_name": "FloatSliderModel",
          "state": {
            "_view_name": "FloatSliderView",
            "style": "IPY_MODEL_bb663d2070ef4445a53ffe561be73749",
            "_dom_classes": [],
            "description": "theta_hat",
            "step": 0.1,
            "_model_name": "FloatSliderModel",
            "orientation": "horizontal",
            "max": 2,
            "_view_module": "@jupyter-widgets/controls",
            "_model_module_version": "1.5.0",
            "value": 1.2,
            "_view_count": null,
            "disabled": false,
            "_view_module_version": "1.5.0",
            "min": 0,
            "continuous_update": true,
            "readout_format": ".2f",
            "description_tooltip": null,
            "readout": true,
            "_model_module": "@jupyter-widgets/controls",
            "layout": "IPY_MODEL_f29f14de20c242c985e73c87602bb513"
          }
        },
        "95f4b75f6a884dc79633c7a1ed0c66b3": {
          "model_module": "@jupyter-widgets/output",
          "model_name": "OutputModel",
          "state": {
            "_view_name": "OutputView",
            "msg_id": "",
            "_dom_classes": [],
            "_model_name": "OutputModel",
            "outputs": [
              {
                "output_type": "display_data",
                "metadata": {
                  "tags": [],
                  "image/png": {
                    "width": 385,
                    "height": 282
                  },
                  "needs_background": "light"
                },
                "image/png": "iVBORw0KGgoAAAANSUhEUgAAAwMAAAI1CAYAAACKdiYnAAAABHNCSVQICAgIfAhkiAAAAAlwSFlzAAAWJQAAFiUBSVIk8AAAADh0RVh0U29mdHdhcmUAbWF0cGxvdGxpYiB2ZXJzaW9uMy4yLjIsIGh0dHA6Ly9tYXRwbG90bGliLm9yZy+WH4yJAAAgAElEQVR4nOzdeXhU5f3+8fcTAoQlLDESkMVEAooKRRAQg4Kiwk8tIlKxriiu1QpSrUtdQGxxLYLU1n6LQFEp7ogLqJFFI4bNolY0CQYRlyAEMIABwjy/P85MTMhsSSaz3q/rmmsy5zznzCdx1HPPeRZjrUVERERERBJPUqQLEBERERGRyFAYEBERERFJUAoDIiIiIiIJSmFARERERCRBKQyIiIiIiCQohQERERERkQSlMCAiIiIikqAUBkREREREEpTCgIiIiIhIglIYEBERERFJUAoDIiIiIiIJSmFARERERCRBKQyIiIiIiCQohQERERERkQSVHOkCRESCYYxpCtwGWOARa+3+CJckIiIS8xQGRCRW3O1+gPPfrskRrEVERCQuGGttpGsQEfHLGHMcsA54AzDA2UBva+2GiBYmIiIS4xQGRCSqGWOSgA+ALkAvnDCwHtgEnGL1HzEREZE60wBiEYl2NwADgMustaXW2u3A5cBA9z4RERGpI90ZEBERERFJULozICIiIiKSoBQGREREREQSlMKAiIiIiEiCUhgQkahnjBlpjFlsjPnRGLPbGLPKGPPbSNclIiIS6xQGRCRqGWOaGGMWAK8Aw4AUoCnQD3jOGDMhkvUFYoxJNcaMMMZMMca8ZYzZZoyx7scxdTxnF2PMBGPMImPMZmPMPmNMmTFmvTHmQWNMhyDO0d4YM90Ys9EYU26MKXGfb2hdagqy7jlVfvcDxph2AdqfV6W9NcaM9dEu2Rgz1h0WvzfG7DfG7DDGbDDGvGGMucMY0z9APYEeUfs5a4jPWID3a2mM+SbQPxd32xPddS02xhQZY3a5P6/fGmMWGmNGhro+Eak9rUAsIlHJGGOA/wDnA/8FrrPWrjLGtACmA+OAvxhj/mOt/SGCpfozFCfIhIQxpjPO+gqmyuafgBY4azD0Aq41xlxgrV3q4xy9gPeAw6ocnw6cC5xjjLnLWvtgqGr2IRm4GHjcT5srAp3EGHM48CZwYpXN5Th/n6OBY3AWqNsFtPFxmgNAaYC32hOolggK6WcsCA8AnYJsezVwXZXXuwEXcAQwAhhhjHkJ+K219kBIqxSRoOnOgIhEqxtxgsAGYIi1dhWAtXYP8Dvge6AZMCpiFQZnK84F62Tg2nqeq5H7+Q3gN0CatbY10BznorcYaAu8aoxpf+jBxphmwGs4QeBj4Hj38W2Bx3Auov9ijDmrnnX6s9n9fLmvBsaYNOAcnItHfxfqz+AEgTLgj0AHa20za20boDVwJvAksNPPOT601rYP8Pi/4H+9iAjlZ8wnY0wf4CYgP8hDVgK3AH2BVGttqrW2Gc4Cgo+421wA3BHqWkUkeLozICJRxxjTBucbSIBrrbW7qu631u43xqwAxuBcaESrRdbaVz0vjDGZ9TzfDuAEa+36qhuttfuBt4wxZ+Nc5LfC+UZ28iHHXwcciXOR/Wtr7bfu438CbjXGdAVGAlOBt+tZqy8rcb6NP8EYc5y19n9e2lwENAHmA2d4O4m7C4wntFxlrX2x6n5rbRnwLvCuMeYPoSo+CoX6M+aVeyXwp9wvbwDWBTrGWjvXx/ZvgD+6u7RdCowFpoSmUhGpLd0ZEJFodCPON7srrLUf+Gjj+cb4iPCUVHvW2oMhPt+uQ4PAIfu/AD5yv/QWki5xPz/nCQKH8Hxb28cYc3TdKw1onvvZ190Bz/Z/+zlHzyo/v+7vzay15UHWFXNC/Rnz4/c4d2H+bq39OETnXO1+jtp/h0USgcKAiEQjT3/xp/208dzZdDVwLbFmu/u5UdWNxphUfgkIS3wc+xFO/3pw+qI3FE8YuMT9jXMlY0x3YADwDbAsyPN1DF1pcihjTEecb+5LgLtDeOqT3c/FITyniNSSwoCIRBVjzK+AbkAFTv92X9Lczz81eFExwhiTDOS4X352yO4e/DLw2FvXHKy1LuBL98tjQ17gL+/zFZCHcxF/aOjw3BV41l2PL2ur/Pw392BiaRhPAKnArYd22ast92xEvYwxf8Pp5gcws74FikjdKQyISLQZ4n5OAjYYY37w9gB+7W63MdgTG2Mm1WI6yUMfk0L7azaIG4H2OHdLDu2vXXXK0e/8nMOzL+AUpfXk6QJ0mWeDewapSw/Z75U7UHjaDAO2GGPeNcY84J6WNNhwcLKvz1iVR6ta/F5x9TkzxvwaZyD/MmvtM3U8RyfP74cz2Hs9ziQA5cA91tonQ1awiNSaBhCLSLTxdB1IAjKCaP9FLc69G6erQ13sruNxYeGeMnSq++VMa+3nhzRpUeXnn/2caq/7uWWoavPheZwpYkcZY25wzxI1GGeA8xpr7YYgznENsA1nhpsmOHcZKu80GGNWu9/jOWut9XGOxgT+nNX2i7O4+Jy5p/GdiTPg+8Z6nOogv/w92uL8s6rA+bz+rT41ikj9KQyISLTxLJT0O2vt3701MMb0A1a5X34Y7ImttY8Cj9avvOjjnpXlVZypVtcCt0e2osCstTuNMYtwpki9AOdb/mAGDlc9x37gD8aYh3C+vR6MM8g1G6dLVD+c6UfPM8Zc5KPb0XJr7ZD6/C5e6oqXz9n9ONOAPuwlXAbNWvs9zh0rz6xE2Tif0cnAOGPM2T5mlRKRMFA3IRGJNlnu5y1+2pzuaePuLpKw3HPyv43zdysEzvExe07VhbOa+Tllc/dzOL6hruwq5F4DYTTOt9Dza3MSa+1Wa+1T1tqLrbXdcbo4XYMzCBmcwPH7ENWcEIwxvYHxOH/D+0N1Xmuty1pbYK0dB/wVJ2zMO3QguYiEj/7lE5Go4e4znup+6W9g8Pnu5xcatqLoZoxpjTMz0PE4i3mdYa311T2l6jgBf1M5evZ9X/8KA1oM/IgT7m7C+Wf/lrV2W31Oaq0tsdb+C+jDL91TrqrPORPQdJwZqf6E869my6qPKu2aurc1934av55wP5/gfohIBCgMiEg0SQI8fbu99vF2LzbV3/3S66JGvhhjbg1isKivx611/7VCz92f+02cbjE/4ASBzX4O+YJf/qbH+ThnEuBZX6DO3UKCZa2twLkLkAT82b15nu8jan3+bcBC98vuoTpvIHHyOTvS/fxvnEG/hz48/uF+XZfPS9W1LrrW4XgRCQGNGRCRqGGtPWiM+RFoh+/ZbO7C6Q/+ur8FuHxoSXCDkn0dGxXcXWoW4Qy23o4TBAr9HWOtLTPGrMHpR38m8LKXZgNwFnsDyA1dxX79G7gZZyDvDpzfK5Q83aP2h/i8/sTF5ywMsqr8HDUDp0USje4MiEi0WeN+PvvQHe5pDi/FmQ2n1t+gWmsnWWtNHR+T6vVbhYgxpgnOhfxpwE7grFoMvnzO/XyJe9DxoTx/07XW2i+97A85a+1aYBLwGDDBWrsvmOOMMVnGGL/fJru7rox0v/xvfeqsjXj4nFlrM/3VWaXple5tmVWPN8Y0cnf78+c293MFsDKE5YtILSgMiEi0qXrBOtY4mhhjbgAWuPf9LlwXq/VljEn3PHCmVfRoU3XfoQMo3b+7Z+75TPe2Rjh/n+E4XTP+n7V2XS3KeQr4Gqdv/uvGmGPd5001xjwMjHK3u8vH7zKkSk1DavG+fllrJ1trb7XWBjWLkNtxwJfGmJeNMRdWDTfGmBbu4Pg+v3z7PD1U9Uabun7G3MfW+JyFSGdgjTHmKmNMpyrvl2SM6W2MeRa42r35CWvtjhC+t4jUgroJiUi0eQ5nsOfpwGycecgbux/7gOuttXMiVl3t/ehj+6HfhGYBmwKcKwdnGk5w/h6v+vny9Rtrbb+qG6y1PxtjzsPpAtQH+J8x5iecrime8Rp3WWvfDlBHNDiAM8D1fPcDY8zPON2BWldpdxC411rrrVsUuBcdC/BeC6y14+tZb0MK5WcslPoAswCMMeU4XYFSgaZV2swB/hjGmkTkEAoDIhJVrLXWGHMOcC9wEc7sNiXAO8Cj9ZnvPA5U/WY3xf3wxdv0olhr1xtjjgfuBM4FOuKMO1gFTLPW+hsr4Pn2fS9hGGDsj7V2iTHmaJyVqAfhzKjUESfY7AS+AlYA/wrQjSqYRcdaB9gvNX0HjMFZBK4/zmfnMJzP5UacoDLbWpsXsQpFBADje1FGERGRXxhj/gFcBzxmrY2WWW9ERKQeFAZERCQoxpgNOFNOZvlZz0BERGKIBhCLiEhAxpjDgWOApxQERETih+4MiIiIiIgkKN0ZEBERERFJUAoDIiIiIiIJSmFARERERCRBKQyIiIiIiCQohQERERERkQSlMCAiIiIikqAUBkREREREEpTCgIiIiIhIgkqOdAHxxhhTDLQCNkW4FBERERGJb5nAT9barLqeQGEg9Fo1a9YsrUePHmmRLkRERERE4teGDRv4+eef63UOhYHQ29SjR4+0tWvXRroOEREREYljffv2Zd26dZvqcw6NGRARERERSVAKAyIiIiIiCUphQEREREQkQSkMiIiIiIgkKIUBEREREZEEpTAgIiIiIpKgFAZERERERBKU1hmIIJfLRWlpKWVlZezbtw9rbaRLkgRnjKFp06akpqaSlpZGUpK+LxAREYlnCgMR4nK5+Oabb9i7d2+kSxGpZK2lvLyc8vJy9uzZQ+fOnRUIRERE4pjCQISUlpayd+9ekpOTad++PS1atNBFl0Scy+Viz549/PDDD+zdu5fS0lLS09MjXZaIiIg0EIWBCCkrKwOgffv2pKamRrgaEUdSUlLl53HLli2UlZUpDIiISMIpKCkjr2gbu8sraJmSTE52Ot0z4vN6TWEgQvbt2wdAixYtIlyJSE2ez6XncyoiIpII8oq2MT23kFXFpTX29c9KY/zQbuRkx9eXZOqXEiGewcLqGiTRyBgDoEHtIiKSMBas3sxls/K9BgGAVcWlXDYrn+dXfxPmyhqWrkRFpAZPGBAREUkEeUXbuPPlT3EF+A7MZeGOlz8hr2hbeAoLA4UBEREREUlo03MLAwYBD5eFGbmFDVtQGCkMiIiIiEjCKigp89k1yJf84lIKSsoaqKLwUhiQmLBp0yaMMYwdOzbSpYiIiEgcqWuXn3jpKqQwIBFnjPH7mDNnjs9jx44dizGGTZs2ha1eERERiR+7yyu8bi9P+qTyUZvjYo2mFpWocd9993nd3rt3bzp27MiGDRto3bp1mKsSERGReNYyxfvlcHnSp5U/p7h6BX1crImP30LiwqRJk/zuP+aYY8JTiIiIiCSMuq4bEC/rDaibkMQEb2MGjDHMnTsXgKysrMpuRZmZmZEpUkRERGJO94xU+mel1eqYAVlpcbMise4MSMy67777ePXVV1m/fj3jx4+nTZs2AJXPIiIiIsEYP7Qbl83KD2p60SQDNw/t1vBFhYnCgEQNb92EMjMzfc4gNGnSJDZt2sT69euZMGGC7giIiIhIneRkpzN1VM+AC48lGXhwVK+46SIECgPRK5ZWgLVBrtIRwOTJk2tsGzx4sKYTFRERkQY3pl8XOrVtzozcQvK9rDswICuNm4d2i6sgAAoDEkVsiEKFiIiISF3kZKeTk51OQUkZty15m/0VLpokJ/HIsFPjZozAoRQGRERERESq6J6Rygld2lZ7Ha8UBqKVviUXERERkQamqUUlpjVq1AiAgwcPRrgSERERkdijMCAx7bDDDgNg8+bNEa5EREREJPaom5DEtKFDh/LII49wzTXXcMEFF5CamkqbNm246aabIl2aiIiISNTTnQGJacOGDeOxxx6jcePGPP7449xzzz08+uijkS5LREREJCbozoBEXDBTimZmZvpsN3HiRCZOnBjqskRERETinu4MiIiIiIgkKIUBEREREZEEpW5CIiIiIpLQCkrKyCvaxu7yClqmJJOTnR7pksJGYUBEREREElJe0Tam5xayqri0xr4W6d8w4KjD6JLWPAKVhY/CgIiIiIgknAWrN3Pny5/i8jGPybc7f+aVj7dwxjEZ4S0szDRmQEREREQSSl7RNr9BwMNaePeLEvKKtoWnsAhQGBARERGRhDI9tzBgEPCwFmbkFjZsQRGkMCAiIiIiCaOgpMzrGAF/8otLKSgpa6CKIkthQEREREQSRl27/MRrV6GYDwPGmNHGmCeMMe8bY34yxlhjzDM+2nYzxtxujHnPGPONMWa/MabEGLPQGHNauGsXERERkfDaXV7hdXt50ieVj9ocF+viYTahu4FfAbuBLcAxftpOAcYAnwNvAqXA0cAIYIQxZry1dkbDlisiIiIikdIyxfvlb3nSp5U/p7h6BX1crIuH3+oWnBBQBAwGlvppuxh4yFr7cdWNxpjBwDvAI8aYF6y13zdUsSIiIiISOXVdUCxeFyKL+W5C1tql1tpCa23AMeHW2jmHBgH39uXAMqAJcHLoqxQRERGRaNA9I5X+WWm1OmZAVhrdM1IbqKLIivkwEEIH3M/x2SEsDs2ZMwdjDHPmzIl0KTHBGMOQIUMiXYaIiEjEjR/ajSQTXFtj4Oah3Rq2oAhSGACMMUcCQ4G9wIogj1nr7YH/MQvix5o1a7jyyis56qijaNasGa1ataJnz57cdtttfPvtt5EuT0REROJETnY6U0f1DBgIjIEzjsmI2y5CEB9jBurFGNMUeBZoCvzRWrsjwiWFXEFJGXlF29hdXkHLlGRystOj6laXtZY77riDhx9+mOTkZM4880x+85vfsH//fj788EMeffRRnnzySebOncvo0aMjXa6IiIjEgTH9utCpbXNm5BaS72XdgY5tmjHgqMPoktbc5zmi/RorGAkdBowxjYB5QA6wAHg02GOttX19nHMt0CckBdZTXtE2pucWel1Yo39WGuOHdouKpDtlyhQefvhhMjMzef311znuuOOq7X/ppZe49NJLueiii3jnnXc47TTNAisiIiL1l5OdTk52OgUlZdy25G32V7hokpzEI8NO5bkNq30eFyvXWMFI2G5C7iDwDPAb4Hng0mAGIceKBas3c9msfJ8r7K0qLuWyWfk8v/qbMFdW3aZNm5gyZQqNGzfmtddeqxEEAC644AKmTZvGwYMHueGGG3C5XDXavPHGG5x88sm0aNGCtm3bMnr0aAoLay4dXlJSwq233srRRx9NixYtaNOmDUcffTRjx47lq6++qtF+yZIlnH322aSnp9O0aVO6du3Kbbfdxs6dO2u0zczMJDMzk59++omJEyeSmZlJ48aNmTRpEtdffz3GGBYuXOj175Cfn48xpsadj7179zJ16lR69+5NixYtaNmyJQMHDmT+/Plez7N//36mTJlC165dadq0KVlZWdx9993s27fPa3sRERFxBhWf0KUtA446jBO6tPX77X6sXGMFKyHDgDGmMTAfuAh4DrjYWhs3A4fzirZx58uf4goQbVwW7nj5k4iuqDd79mwqKio4//zz6dmzp892V199NR06dODLL79k+fLl1fa9/PLLjBw5kk6dOjF+/HgGDhzISy+9xEknncSXX35Z2W7v3r3k5OTw2GOPceSRR3LDDTcwbtw4evbsycKFC/n888+rnXfy5MkMHz6c/Px8zjnnHG6++Ways7N59NFHycnJ4aeffqpR5/79+zn99NN59dVXOeussxg/fjxZWVlcccUVAPz73//2+vvNnTsXgLFjx1Zu27lzJ4MGDeKuu+6iUaNGXHXVVVxxxRX8+OOPXHzxxdx9993VzmGt5cILL+Tee+/FGMNNN93Eueeey9NPP82FF17o828rIiIiwYmla6xgJVw3IWNME5w7AecB/wautNbW/Ko5hk3PLQz4IfVwWZiRWxixW1kffPABAGeccYbfdsnJyZx22mk899xz5OXlVesqtGjRIhYtWsS5555buW369OlMmDCB3/3ud+Tm5gKQm5vLxo0bmTBhAtOmTat2/v3791f79nzp0qVMmjSJgQMH8uabb9KmTZvKfXPmzOHKK6/kvvvuq3Ge77//nmOPPZbly5fTokWLavu6d+/O66+/TmlpKWlpv0xptm/fPv7zn//Qrl07hg8fXrl9woQJfPzxxzz00EP88Y9/rNxeXl7OyJEj+ctf/sLo0aPp3bs3APPnz2fhwoWcdNJJLF26lJSUFMAJNf369fP79xUREZHAYukaK1gJdWfAPVj4FZwgMIs4DAIFJWU+b1v5kl9cSkFJWQNV5N/33zvru3Xu3DlgW0+b7777rtr2008/vVoQALjpppvo2rUr7733Hl9//XW1fc2aNatx7iZNmpCa+sstwRkznIWo/+///q9aEADn2/vevXvz7LPPeq3zscceqxEEAK644gr2799fo4vPokWL2LFjB5dccgnJyU4+3759O8888wwnnnhitSAAkJKSwkMPPYS1lueee65y++zZswH4y1/+UhkEANLS0rjnnnu81ioiIiLBibVrrGDF/J0BY8xIYKT7ZXv380BjzBz3z9ustbe6f/4HcDawDfgWuNeYGnNKLbPWLmuwghtYXW9H5RVti7nR7x6DBw+usa1Ro0YMGjSIjRs38vHHH3PkkUcyePBgOnbsyIMPPsi6des4++yzycnJoXfv3jRq1Kja8StXrqRx48a88MILvPDCCzXOv3//fn788Ue2b9/OYYcdVrk9JSWFXr1qLmEOcPnll3PPPfcwd+5cbrzxxsrt3roIrV69moMHD2KMYdKkSTXOdeCAsyzGhg0bKretW7eOpKQkBg0aVKO91hcQERGpn3i9xor5MAD0Bq44ZNtR7gfA14AnDGS5n9OBe/2cc1moigu33eV1G/pQ1+Pqq3379mzYsIFvvgk8yMbT5ogjjqi2PSMjw+e5AXbt2gVAq1at+Oijj7jvvvt47bXXWLJkCQDp6en87ne/4+6776Zx48aA8818RUUFkydP9lvT7t27q4WBdu3a4SVgAtCpUyeGDh3KO++8w4YNG+jRowdbt25l8eLF9O7du1qI2L59O+CEgtWrfc9msHv37sqfd+3aRVpaWuXv4O1vISIiInXj61qpPOmTyp9TXDW/EIzUNVawYr6bkLV2krXW+HlkVmk7JEBbY62dFLnfpv5aptQt39X1uPryfIv97rvv+m138OBBli1bBkBOTk61fSUlJV6P+eGHHwBo3bp15bZOnToxa9Ystm7dymeffcaMGTM47LDDuP/++7n//vsr27Vu3Zq2bdtirfX7OPLII6u9p68g4OEZSOy5G/Dss89SUVFRub3q+wPccsstft9/6dKl1Y4pLS2tvGvg7W8hIiIidePtWum0jat5d9bD3LX033Dw46CPiyYxHwakuroOUonU4JaxY8fSqFEjXnnlFf73v//5bPf000/z3XffcfTRR9foFnTo7ELghAfP4OQTTjihxn5jDMcddxy///3veeeddwB49dVXK/efdNJJ7Nixw29NdTFq1ChatWrFM888g8vlYu7cuSQnJ3PxxRdXa9e/f3+SkpJ4//33gz53nz59cLlclb93VZ4gJSIikigKSsqYnVfME7mFzM4rrnff/arXSiM+X8amh85l9ouTOX7rTm7+6Asu/2/NKcoPPS4aKQzEme4ZqfTPSgvcsIoBWWkR68t21FFHcdddd3HgwAFGjBhRY3pPcC7Sx48fT6NGjfj73/9OUlL1j+17773H66+/Xm3bzJkz2bhxI6eddlrlt/f/+9//vN5F8Gxr3vyXFQZvueUWAK655poaA5YB9uzZw0cffVTL39YZvHzhhRfy7bffMm3aNNavX8/ZZ59Nu3btqrVr164dl1xyCWvWrGHKlCkcPHiwxrk2btxIcXFx5esrr7wSgD/96U+Ul5dXbi8tLeWBBx6oda0iIiKxKK9oGxc+tZKzpq1g8qLPeeydAiYv+pyzpq3gwqdW1rnvf/eMVO75eimbHjqXGYtqrlP71WG/qrEtktdYwYru+xZSJ+OHduOyWflBTX2VZODmod0avig/Jk2axJ49e/jrX//Kr371K4YNG8Zxxx3HgQMH+PDDD8nPz6dZs2bMnz/f6+rDv/71rzn//PM5//zzyc7O5r///S9vvfUWaWlpPPnkk5Xt3nnnHW677TYGDhxI9+7dadeuHVu2bGHhwoUkJSVx2223VbYdOnQoDz74IHfeeSfdunXj7LPPJisri927d/P111+zfPlyBg0axOLFi2v9+15xxRX861//4s4776x87c3MmTMpLCzk3nvvZd68eQwaNIiMjAy+++47NmzYwOrVq5k/fz5ZWc5QmN/+9rcsWLCA1157jeOPP57zzjuPAwcO8OKLL9KvXz82btxY61pFRERiyYLVm/2uA+BZEOzBUb24sF/gmQwrPfAA3HMP43zsnnL61azpMrLatmi4xgqGwkAcyslOZ+qongEXxUgy8OCoXhG/fZWUlMRjjz3GmDFj+Nvf/saKFSvIzc2lUaNGZGZm8oc//IEJEybQqVMnr8ePGjWKa6+9lj//+c+88cYbNG7cmFGjRjF16lS6d+9e2W7YsGFs3ryZFStWsHDhQn766Sc6dOjAmWeeycSJEzn55JOrnff2228nJyeHGTNm8MEHH7Bw4UJat25Nx44dufbaa2t07QnWoEGDyM7OpqioiLS0tBrTonq0atWK5cuX889//pPnnnuOl156ifLycjIyMujWrRvTpk3jzDPPrGxvjOGFF17gwQcfZM6cOcycOZMOHTpw5ZVXcu+991abblRERCTe1HZBsI5tm/m/BrKWYU8uYeCL+T6b3DXsRp7r/f9qbI+Wa6xgGGuDXDlBgmKMWdunT58+a9eu9dvOMyVkjx49GqyWvKJtzMgtJN/LnLgDstK4eWi3mPiQSmSE4zMqIiISKhc+tbJW6wAMyEpjwXUDK19PWjYJAHPQxX1zN8G8eT6P/fLxf3JvyvERv8bq27cv69atW2et7VvXc+jOQBzLyU4nJzudgpIy8oq2sbu8gpYpyeRkp0d9/zURERGRYNVnQTDPNVGj/RWMue95un9U6PugxYth2DCOBha43zfWr7EUBhJA94zUmPtgioiIiASrXvku9PAAACAASURBVAuC2T3QoQP3+G2YB4d0J4b4uMZSGBARERGRmFaXBcEyS7/lykHex+1VWr8eetVcSCyeKAyIiIiISEzztbBXedKnlT97wkCv7wt47d8T/Z+wqAi6dg1ZfdFMYUBEREREYlowg3UHf7WWuS/c57/RmjXQt85jcWOSwoCIiIiIxDTPoqveBhGP+bSYp14LsFBoAt0JOJTCgIiIiIjEvEMXXf2/l6ZwZpHvNQIAKCmBdu0avrgopjAgIiIiIjHPs+hqv+Enc1Tpt37bvrz0c0YN0To6oDAgIiIiIvHAGMYEaHLxzOXcOOxYRmnR1UoKAyIiIiISu4wJ2GT2iiJyurfjuRhfE6AhKAyIiIiISOwJIgRgnQEEVzZwKbEsKdIFiIiIiIgExeVyQkCgIGBtZRAQ/xQGRERERCS6lZc7AaBRI//tFAJqTWFApIo5c+ZgjGHOnDlBHzN27FiMMWzatKnB6vLFGMOQIUPC/r4iIiJhsX27EwKaNfPdpls3hYB6UBiQiDPGVHs0atSItLQ0hgwZwpw5c7D6l1tERCSxFBc7ISDdz6w/I0Y4AaCgIHx1xSENIJaocd99zhLhBw4coKioiFdeeYXly5ezZs0aZs6cGZYazj//fE466SQ6dOgQlvcTERGRKtasgX79/LeZOBEeeyw89SQAhQGJGpMmTar2Oi8vj1NPPZUnn3ySP/zhD2RlZTV4Da1bt6Z169YN/j4iIiJSxRtvwLnn+m/zxBNw003hqSeBqJuQRK2cnByOOeYYrLWsXbu2xv78/HxGjx5N+/btadKkCZ07d+a6667ju+++q9H2q6++4tprryU7O5tmzZqRlpZGz549uf7669m+fXtlO39jBt59911OOeUUWrRoQVpaGiNHjuSLL77wWvuyZcswxtQIOB6ZmZlkZmZW27Zr1y4eeeQRTj/9dDp16kSTJk04/PDDGTFiBCtXrvT9hzpEWVkZU6ZM4fjjj6dVq1akpqbStWtXxowZ4/XvKCIiEjFPPeV0B/IXBF55xekOpCDQIHRnQGJC48aNq71++umnufbaa2natCkjRoygc+fOFBYW8q9//YtFixbx0Ucf0aVLFwC+//57+vXrx08//cTZZ5/NBRdcQHl5OcXFxcybN4+bbrqJww47zO/7v/jii4wZM4YmTZowZswYOnTowAcffMDAgQPp1atXSH7HDRs28Kc//YlTTz2Vc845h7Zt27J582Zee+013nrrLRYtWsTw4cP9nsNay/Dhw/nwww8ZOHAgV199NcnJyWzZsoWlS5dyyimn0Ldv35DUKyIiUmd33QVTp/pvs3IlnHRSeOpJYAoDErVWrFjBF198QZMmTejfv3/l9oKCAq6//noyMzNZvnw5HTt2rNyXm5vLWWedxfjx43nllVcA50K+tLSUxx9/nPHjx1d7jz179pCU5P8G2e7du7nuuutISkri/fff58QTT6zcd8stt/D444+H4telR48efPfdd6QfMlhqy5Yt9O/fn1tuuSVgGPjss8/48MMPGTlyZOXv7+Fyudi1a1dIahUREamTCy+EF17w36awELKzw1OPKAxEs2WblrFs07JIl+HTkMwhDMkcErLzebrUVB1AbK3l0UcfrTag9+9//zsHDhxg+vTp1YIAwNChQxkxYgSLFi2irKyM1NRflh1v5mVashYtWgSsa+HChZSWlnL55ZdXCwKemmfPnh2Si2xfYxU6derE6NGjeeKJJ9i8eXPlHQ9/vP2uSUlJtG3btt51ioiI1FqvXvDpp/7bbN0Khx8ennqkksKARI3JkydXe22MYdasWVx5ZfVFxD3955cvX87q1atrnGfr1q0cPHiQgoIC+vbty4gRI7jrrru48cYbWbJkCcOGDSMnJ4djjz0WE8RS5uvWrQNg8ODBNfa1bt2a3r17s3z58qB/T3/y8vKYPn06K1euZOvWrezfv7/a/m+//dZvGDj22GPp3bs38+fP5+uvv+a8885j0KBBnHjiiTRp0iQkNYqIiAQtiP/PsmcPNG/e8LWIVwoDEjU86wns2bOHlStXMm7cOK6//nqOPPJITj/99Mp2ngG/jzzyiN/z7d69G4AjjzySVatWMWnSJBYvXszLL78MQOfOnbn11lu5+eab/Z7H861/RkaG1/3t27cP4rcL7JVXXmH06NGkpKRw5pln0rVrV1q0aEFSUhLLli1j+fLl7Nu3z+85GjVqxHvvvcf999/Piy++yO233w5AamoqV1xxBVOnTqVly5YhqVdERMSnYEJARUXgFYWlwSkMRLFQd8OJFS1atOCMM85g0aJF9OnThyuuuIIvv/yS5u5vDTzdaXbt2kWrVq2COmePHj1YsGABFRUVrF+/nnfffZcnnniC8ePH06JFC8aNG+fzWM/7lZSUeN3/ww8/1NjmGYdQUVHh9ZidO3fSpk2batvuuecemjRpwpo1a+jRo0e1fdddd13Qdx/atm3LtGnTmDZtGkVFRSxfvpynnnqKmTNnsnPnTubNmxfUeURERGotmBDgcgXXTsJCU4tK1OrVqxfXXHMNW7ZsYdq0aZXbT3LPLPD+++/X+pzJycn07duX22+/nfnz5wPw6quv+j2mT58+AF4vxnft2sV///vfGts9ffO/+eabGvuKioq8jjEoKiri2GOPrREEXC4XH3zwgd8afcnOzmbcuHEsX76cli1bsnDhwjqdR0RExCfPxX2gC3xrnYeCQFRRGJCodvfdd9O0aVMeffRRduzYAcBNN91E48aNueWWWyjwsgT5/v37qwWFtWvXer349nzT3zxAP8XzzjuPtm3b8txzz7FmzZpq+yZNmuT13McccwytWrVi4cKFbN26tXL7zz//7LNbUmZmJoWFhdXWSbDWMmnSJD7//HO/NXoUFxfz1Vdf1di+Y8cO9u3b53VgsYiIiD8FJWXMzivmidxCZucVU1BS5uzYt8+5sA/U1ccTAiQqqZuQRLWOHTty/fXXM336dB5++GGmTp3KMcccw9NPP81VV13Fcccdx/Dhw+nevTsHDhxg8+bNvP/++xx++OGVC4LNmzePp556ikGDBtG1a1fatm3Lxo0bWbRoEU2bNmXChAl+a2jZsiX//Oc/GTNmDKecckq1dQY+++wzTj31VFasWFHtmMaNGzN+/HimTJnCCSecwPnnn09FRQXvvPMORxxxBEcccUSN97nlllu4/vrrOeGEE7jgggto3LgxeXl5fP755/z6179m0aJFAf9e69evZ9SoUfTr148ePXpwxBFH8OOPP7Jw4UIOHDhQOYZAREQkkLyibUzPLWRVcWm17a3Kd/PJ9Iv8H3zkkbBpU8MVJyGjOwMS9e68806aN2/OjBkzKr/Nv/TSS1m7di2XXHIJn3zyCTNnzuSZZ56hqKiI0aNH8+STT1Ye/9vf/paxY8eydetWnn/+eR5//HHWrVvHRRddxJo1axg4cGDAGkaPHs3ixYvp27cvzz//PP/4xz9IS0tj5cqVZGVleT1m8uTJTJ06lZSUFP75z3/y5ptvcsEFF7BkyZIai6iBMy5g9uzZdOjQgblz5/Lss8/SuXNn8vPzK7sqBXLiiSdyxx13kJyczOLFi3nsscd466236Nu3L2+++SYTJ04M6jwiIpLYFqzezGWz8qsFgY67trLpoXP9B4Fhw5y7AAoCMcNY3bYJKWPM2j59+vRZu3at33YbNmwAqNE/XCRa6DMqIpKY8oq2cdmsfFzuS8SBX3/C/P/c5f+g3/8eZsxo+OKkmr59+7Ju3bp11tq+dT2HugmJiIiISKXpuYW4LFzwaS6PvTnNb9spp1/NZxdexYLrAt9ll+ikMCAiIiIigDNY+JS503l+5QK/7W447w7eOmaQ86K4lIKSMrpnpIahQgm1mA4DxpjRwGCgN/ArIBV41lp7qZ9jTgbuBk4CmgGFwNPAE9bagw1etIiIiEg0Gj2a7i+9RHc/TYZdfgZfdqg58UZe0TaFgRgV02EA56L+V8BuYAtwjL/GxpjzgJeAcmABUAr8GpgG5AC/achiRURERKJOt25QVOS3ybCxv2N9h04ApLhq7t9d7n2RTYl+sR4GbsEJAUU4dwiW+mpojGkF/B9wEBhirV3j3n4P8B4w2hhzkbX2Pw1etYiIiEikBbH418k3PM13rdoB3kOAR8uUWL+kTFwx/U/OWlt58W8Cf6BHA4cD//YEAfc5yo0xdwO5wA2AwoCIiIjEryBCQM8JCyhr2iLoU+Zkp9enIomgRFpn4HT382Iv+1YAe4GTjTFNw1eSSHTSlMMiInHImMBBYP9+LvzHh7UKAgOy0jReIIYlUhg42v1ccOgOa20FUIxzp+SocBTjuZPhcvm55yYSIZ4wEMQdNxGRmFFQUsbsvGKeyC1kdl4xBSVlkS4pPIIJAS6Xs1hY48aMH9qNpCD/859k4Oah3epfo0RMTHcTqqXW7uddPvZ7trcJ5mTGGF+rivkdxOzRtGlTysvL2bNnD6mpStMSXfbs2QM4n1MRkViXV7SN6bmF1VbT9eiflcb4od3ir5uLywWNGgVu5+VOcE52OlNH9eTOlz+tXHjMmyQDD47qFX9/uwSTSHcGooonAPzwww+UlZXhcrnUNUMiylqLy+WirKyMH374AUBBVURi3oLVm7lsVr7XIACwqriUy2bl8/zqb8JcWQPZs8e5CxAoCFjrNQh4jOnXhXnjBjAgK83r/gFZacwbN4AL+3WuT7USBRLpzoDnm//WPvZ7tu8M5mS+ln123zHoE+j4tLQ09uzZw969e9myZUswbykSVs2bNyctzfv/BEREYkFe0baA324DuCzc8fIndGzbLHa/5d68GY48MnC7WnzxmJOdTk52OgUlZeQVbWN3eQUtU5LJyU7XGIE4kkhh4EvgRKA7UK2LjzEmGcgCKoCvwlFMUlISnTt3prS0lLKyMvbt26c7AxJxxhiaNm1KamoqaWlpJCXp5qGIxK7puYUBg4CHy8KM3MLYCwMffQQDBwZsNmT2YJaNXVant+iekaqL/ziWSGHgPeASYDgw/5B9pwLNgRXW2n3hKigpKYn09HTS02PsPzwiIiJRrqCkzGfXIF/yi0spKCmLjQvfZ5+FSy8N2GzI7MFhKEZiWSJ97fcisA24yBhzomejMSYFeMD98u+RKExERERCK69oW52O++vbX0b3LEN33umMCfAXBA4/POCYABGPmL4zYIwZCYx0v2zvfh5ojJnj/nmbtfZWAGvtT8aYa3BCwTJjzH+AUmAEzrSjLwILwlW7iIiINJzd5RVet5cnfVL5c4qrV439i/9XwuL/lUTfLENnngnvvuu/zXnnwauvhqceiRsxHQaA3sAVh2w7il/WCvgauNWzw1r7qjFmMPAn4AIgBSgCJgIzrDrti4iIxIWWKd4vccqTPq382VsY8PDMMvTgqF6RnTEnJQX2BejBfP/9cM894alH4k5MhwFr7SRgUi2PyQPOboh6REREJDqE4hv9iM4yFMyijy++CBdc0PC1SFxLpDEDIiIikiC6Z6TS38cc+bXhmWUobIJZLXjtWmc8gIKAhIDCgIiIiMSl8UO7kRTEF+yBeGYZalDBhIDvvnNCQJ+AyxmJBE1hQEREROJSTnY6U0f1DEkgqOvsRAEFEwL27nVCQIcODVODJLSYHjMgIiIi4s+Yfl3o1LY5M3ILyfez7kCgWYZ8zU5UZ8GMCXC5gmsnUg8KAyIiIhLXcrLTyclOp6CkjIv/s5CiH3fXaBNoliFfsxPVirUQzMrumtxQwkjdhERERCQhdM9IZWDXw+p0bL1mE9q71/mGP1AQ0EJhEgEKAyIiIpIwDmvZlCbJtbv8SU1JpntGau3f7LvvnBDQooX/dgoBEkEKAyIiIpIwtu/ex/4KV62OKSuvqN1sQmvWOCGgY0f/7RQCJAooDIiIiEjC2Fy6t07HBTWb0JIlTgjo189/O4UAiSIKAyIiIpIwfN0VqDAllQ9v/M4mNHOmEwKGD/fdpkULhQCJSgoDIiIikjB8jReoMFsrH954nU3oxhudEPD73/t+w+HDnQCwu+YMRg2toKSM73f9zJYde/l+188Nv3CaxCRNLSoiIiIJo0ta8zodV202oYED4aOP/LZfcekpnDpvRZ3eq77yirYxPbeQVcWl/NDkl25RZ01bQf+sNMYP7Va/2ZEkrigMiIiISMI4rGVTOrZpxrc7fw76mAFZac5sQkEsAPbMgxdTNKAbAKfWucq6W7B6M3e+/CkuH72RVhWXctmsfB4c1YsL+3UOb3ESldRNSERERBLKgKMOC3ph3yQDC64/OXAQ+OQTsLYyCERCXtE2v0HAw2Xhjpc/CW5QtMQ93RkQERGRhNIlrTlDj8lg3Wf4vXDe9NC5gU/2/ffQvn3oiquH6bmFAYOAh8vCjNxCdRcS3RkQERGRxHN8x9bMGzeAAVlpNfZteujcwEFg715nYHCUBIGCkjJWFZfW6pj84lINKhbdGRAREZHQKCgpI69oG7vLK2iZkkxOdnrdVu4Nk5zsdHKy0ykoKePX/2nOlxNWBT7o4EFIir7vUuva5SevaFtU/zOShqcwICIiIvVSdfaaQ0X97DXW0r19K74Mol0087UOQrJtV6fjJHFEX7QVERGRmLFg9WYum5Xvs4uKZ/aa51d/E+bK/Eved8AZFBzoW/4YWSjM6zoIQLLNqHzU5jhJHPoEiIiISJ3Udvaajm2bRfwOQcvtZdw6+q+BG8ZAAKiqrn/XSP/zkMjTnQERERGpk7rMXhMxa9eCMYGDQIzcCThU94xUjmlfu77/PdqnaryAKAyIiIhI7cXM7DULFjjdgU480X+7GA0BVdW2+tj+bSVUFAZERESk1uoze01Y3H23EwIuush/uzgIAeCEsy9/qF3Q+uKHMk0tKgoDIiIiUnu+ZqEpT/qk8lGb40Jm2DAnBPz5z77b/OpXcRMCPKI+nEnU0gBiERERqTVfs9CUJ31a+XOKq1fQx9VbSgrs2+e/zQ03wJNPNsz7R5ivkJXi6lmn4yRxKAyIiIhIrUXN7DXGBG7z1FNw7bWhfd8o4ytkeQtkwRwniUOfABEREam17hmp9M9Kq9Ug4gFZaaGbvSaYELB0KQwZEpr3C0JBSRkfb97B/goXTZKTKCgpC9tsPVETziTmKAyIiIhInYwf2o3LZuUHNb1okoGbh3ar/5sGEwI2boSjjqr/ewWp6grMO5N/rNx+1ucrwrYCc8TDmcQsDSAWERGROsnJTmfqqJ4kBbg+TzLw4Khe9bsgNiZwENi1yxkUHMYgEE0rMI8f2i3gPwuPkIUziXkKAyIiIlJnY/p1Yd64AQzISvO6f0BWGvPGDeDCfp3r9gbBhICKCicEtGpVt/eoo9quwNzQM/eENZxJ3FA3IREREamXnOx0crLTKSgp47Ylb1f2mX9k2Kl164ZiLSQF8X1lhKcGrcsKzA19AT6mXxc6tW3OjNxC8r3crRiQlcbNYei2JLFDYUBERERContGKid0aVvtda3s2+dMERpIFKwPUJ8VmBu6n37VcJZXtI3d5RW0TEkmJztdYwSkBoUBERERiaytWyEjI3C7KAgBHvVZ5CtcF+TdM1J18S8BKQyIiIhIZKxfD717B24XRSHAQ4t8SbxQGBAREZHweuUVGDUqcLsoDAEeWuRL4oVmExIREZHweOABZ2agQEHA2qgOAqBFviR+KAyIiIhIwxo50gkB99zju023bjERAjw8i3zVhhb5kmiUsGHAGHOOMeZtY8wWY8zPxpivjDEvGGMGRro2ERGRuJCW5oSAhQt9txk71gkABQVhKytUtMiXxIOE7LhmjHkI+COwHXgV2AZkA+cBFxhjLrfWPhPBEkVERGLWpNMmB240Ywb8/vcNX0wD8izyFWjhMS3yJdEs4cKAMaY9cCtQAvSy1m6tsu804D3gfkBhQEREpDaMYVKgNm+/DWeeGYZiwkOLfEmsS7gwAByJ0z0qv2oQALDWLjXGlAGHR6QyERGRWGSC6CtTUOCMC4hDWuRLYlkihoFCYD/Q3xiTbq2tXDXEGHMqkIrTdUhERET8CSYE7NgBbdo0fC1RQIt8SSxKuDBgrS01xtwO/BX43BjzKs7Yga7ACOAd4LpA5zHGrPWx65hQ1SoiIhKVggkBBw5AcsJdZojEnIT8t9Ra+7gxZhPwNHBNlV1FwJxDuw+JiIgkPGshKYhJCGNkalARcSTk1KLGmD8CLwJzcO4ItAD6Al8BzxpjHg50DmttX28P4IsGLF1ERCS8Dhxw7gQECgIxtEaAiPwi4cKAMWYI8BDwmrV2orX2K2vtXmvtOuB84FvgD8aYoyJZp4iISETt3OmEgCZN/LdTCBCJaQkXBoBz3c9LD91hrd0LrML5u5wQzqJERESiQlGREwLatvXfTiFAJC4kYhho6n72NX2oZ/v+MNQiIiISHZYtc0JAoOk/FQJE4koihoH33c/XGmM6Vt1hjPl/QA5QDnwY7sJERETCbtYsJwScdprvNo0aKQSIxKlEDAMvAu8CGcAGY8xcY8xDxpjXgDcAA9xhrd0eySJFREQa1C23OCHg6qt9txk82AkAFRXhq0tEwirhpha11rqMMWcDNwIX4Qwabg6UAm8CM6y1b0ewRBERkYZz6qnw/vv+20ycCI89Fp56RCSiEi4MAFhrDwCPux8iIiLxLykpcDefWbPgqqvCU4+IRIWEDAMiIiIJI5jVgpctc7oEiUjCURgQERGJR8GEgKIi6Nq14WsRkailMCAiIhJPggkBO3ZAmzYNX4uIRD2FARERkQZUUFJGXtE2dpdX0DIlmZzsdLpnpIb+jYIJAQcOQLL+1y8iv9B/EURERBpAXtE2pucWsqq4tMa+/llpjB/ajZzs9Pq/UTAhQOsDiIgPibjOgIiISINasHozl83K9xoEAFYVl3LZrHyeX/1N3d6gosIJAYGCgBYKE5EAFAZERET8KCgpY3ZeMU/kFjI7r5iCkjK/7fOKtnHny5/iCnAN7rJwx8ufkFe0LfhiduxwAkDjxn6bTVp6n0KAiARF3YRERES8qGs3n+m5hQGDgIfLwozcwsDdhQoK4OijA55v0tL7gntjERE33RkQERE5RF27+RSUlPk8xpf84lLfdxuWLHHuBAQKAuoOJCJ1pDAgIiJSRX26+dSqy88h71nN9OlOCBg+3P+BCgEiUk8KAyIiIlXUpZuPx+7yCq/typM+qXx4U3nc2LFOCJgwwfebpqUpBIhIyCgMiIiIuNW3m0/LFO9D8cqTPq18eHPFFWc6IWDuXN9vNHKkEwC2b69VfSIi/mgAsYiIhF3YFuKqpfp08+mekVrrdQM2PXRu4EYPPAB/+lOd6hIRCURhQEREwiZsC3HVkb9uPh4prl4+j+uekUr/rLSAdxeCCgGvvOLcDRARaUDqJiQiImHR4AtxhUBdu/ms27yjcg2C8UO7keRjLbCdf54fOAisX+90B1IQEJEw0J0BERFpcLWdoadj22YRuUNQ1/dc+uWPLP3yR8C5wzFuUBazPiiu/H13/nl+4JOUlEC7dnV6fxGRulIYEBGRBtcgC3E1gGC7+fizqriUNZtKGTcoiz+de1zgA8rLoWnTOr+fiEh9qJuQiIg0qJAvxNXA/HXzCdZXD54bOAi4XE53IAUBEYkghQEREWlQIVuIK0xystOZOqpnrQNBkusgmx46N/CYAM8aAaaeiUNEJATUTUhERBpUfWfoiYQx/brQqW1zZuQWkh/grkbLfXv57PELA59Ui4SJSBRSGBARkQblb4YeD29hwNdx4ZKTnU5OdjoFJWXctuRtvt6+l03b91Tu77rtG3Jn3RDwPLM/+Iorc7IaslQRkTpTGBARkQZV14HAkVxvoKruGamc0KUt+ytcbNq+h9M2rmb2i5MDHpd5++sA/CGCdzhERAJRGBARkQZVlxl6BmSlRcWKxFX9dvE63nrhw4DtPCHAI9J3OERE/NF/oUREpMGNH9qNy2blBzW9aJKBm4d2a/iignXeeUx67bWAzQ4NAR7RcodDRMQbhQEREWlwnhl6Ai08lmTgwVG9ouMCumVL2LPHb5Mv07swbNyTPvdH4x0OEZGqFAZERCQsAs3QMyArjZuHdot8EAhiys95J5zNPWf9zm+bqLvDISLihcKAiIiEzaEz9OyvcNEkOYlHhp0a+W/Qg5n3f9YsFvQ8g/te/hRi5Q6HiIgfCgMiIhJ2nhl6qr6OmGBCQF4enHwyAGMgNu5wiIgEQWFAREQSUzAhYPNm6Ny5xuaqdzjyiraxu7yClinJ5GSnR/4Oh4hILSgMiIhIYgkmBOzdC82aBWzWPSNVF/8iEtMUBkREJDEEEwJcruDaiYjECYUBERGJXy4XNGoUuJ0NYgEEEZE4lBTpAkRERELup5+cb/gDBQFrFQREJKEpDIiISPwoLHRCQOvW/tspBIiIAAoDIiISD95+2wkB3bv7b6cQICJSjcKAiIjErmnTnBAwbJj/dgoBIiJeJXQYMMYMNca8Yoz5wRizzxjznTFmiTHm7EjXJiIiflx0kRMCJk70304hQETEr4SdTcgY8zBwG7AFeA3YBhwO9AWGAG9GrDgREfEuIwO2bvXf5qijYOPG8NQjIhLjEjIMGGOuwQkCc4FrrbX7D9nfOCKFiYiId8HM/T92LMye3eCliIjEk4TrJmSMaQr8GdiMlyAAYK09EPbCRESkJmMCB4Enn3S6AikIiIjUWiLeGTgTpzvQ44DLGHMOcDxQDqyy1q6MZHEiIkJwdwKWLYPBgxu8FBGReJaIYaCf+7kc+BgnCFQyxqwARltrf/R3EmPMWh+7jql3hSIiiSqYEFBcDJmZDV6KiEgiSLhuQkA79/NtgAVOAVKBXsDbwKnAC5EpTUQkQQXTHWj3bqc7kIKAiEjIJOKdAU8AqgBGWGs3uV9/aow5H/gSGGyMGeivy5C1tq+37e47Bn1CWK+ISNyadNrkwI1cDQbAqAAAIABJREFUruDuGIiISK0lYhjY6X7+uEoQAMBau9cYswQYB/QHNH5ARCTUXC5o1IhJgdppfQARkQaXiN2EvnQ/7/Sxf4f7uVkYahERSRy7dzvf8Ddq5L+dFgoTEQmbRLwzkIszVuBYY0yStdZ1yH7PgOLi8JYlIlJTQUkZeUXb2F1eQcuUZHKy0+mekRrpsmqnuNhZCCwQBQARkbBLuDBgrf3aGLMIGAGMB6Z59hljzgKG4dw1WByZCkVEIK9oG9NzC1lVXFpjX/+sNMYP7UZOdnoEKquFZcvgtNMCt1MIEBGJmETsJgRwI/AN8FdjzLvGmEeMMS8CbwIHgauttbsiWqGIJKwFqzdz2ax8r0EAYFVxKZfNyuf51d+EubIgPfmk0x0oUBBQdyARkYhLyDBgrd0C9AVmAt1w7hAMARYBOdbalyJXnYgksryibdz58qe4Alwjuyzc8fIn5BVtC09hwRg71gkBN97ov51CgIhI1Ei4bkIe7kXFfu9+iIhEhem5hQGDgIfLwozcwsh3F8rMhK+/9t8mIwN++CEs5YiISPBCdmfAGJMRqnOJiCSigpIyn12DfMkvLqWgpKyBKgrAs1CYvyBw0UXOXQAFARGRqBTKbkKbjTELjDGnh/CcIiIJo65dfsLeVSiY1YKnTXNCwPz54alJRETqJJTdhAqA3wCjjTEbgaeAOdba7SF8DxGRuLW7vMLr9vKkTyp/TnH1Cvq4kAtmFeC334Yzz2z4WkREJCRCdmfAWtsTGATMAzoCjwBbjDHPGmNODdX7iIjEq5Yp3r+fKU/6tPJRm+NCJpg7AYWFzp0ABQERkZgS0tmErLUfWmvHAkfgzNBTBPwWWGqM+dwYM94Y0zaU7ykiEi/qOhC4wQYQBxMCdu1yQkB2dsPUICIiDapBpha11u6y1j5R5W7Bv4Ejgb/i3C2YY4w5sSHeW0QkVnXPSKV/VlqtjhmQlRb6FYmDCQEHDzohoFWr0L63iIiEVTjWGdgG7ADKAQM0BS4H8o0xrxpjavd/PhGRODZ+aDeSguiaD5Bk4Oah3ULzxtYGFwI8awQkJeQyNSIicadB/mtujGlsjLnIGLMU2ABMAH4EJgLpwOnAEmAE8LeGqEFEJBblZKczdVTPgIEgycCDo3rVv4vQ3r1OAAh0ca+FwkRE4lJIR50ZY7KBa4GxwGGAC3gVeNJam1ul6TJgmTHmRWB4KGsQEYl1Y/p1oVPb5szILSTfy7oDA7LSuHlot/oFgW++gS5dArdTABARiWshCwPGmFxgCE5XoO+BKcA/rbXf+TlsLXB+qGoQEYkXOdnp5GT///buPT6uus7/+PszDSUtiZAQiGsvEEwCqK0WbAOGH4LRdkW2al2oq9Qbl8XVbVFEwWvZXZa6sEKrruxCBe3yc4tLUYsu1I0gEiSpUH6tckkiKS0Xs6RpId2SlnS+vz/OpKTp3DLJnDMz39fz8chjknO+Z/KBaZLznu+tRp29A7ri3g3aNxTX5LKYrltw5vjmCDz0kNTcnLkdIQAAvDCRPQNnS7pP0r9I+olzbn8W16yXlC4sAIDXGmsrNWdm1UFf5+SWW6SLL87cjhBQtDp7B7Rp284DwbGzd2DiJ5cDKDkTGQZOds49NZYLnHO/l/T7CawBADDSpz8t3XRT5naEgKLV1t2nla1d6ujp166yFw8cn//4A5pXV61l4x1SBqCkTeSmY2MKAgCAPHrLW4KJwemCQEUFE4OL3NqN27Rkdbs6kswtkaSOnn4tWd2uOzZuD7kyAMWCteEAoJQMLw/6hz+kbvOBDwQBYGAgvLow4dq6+3TVui2KZ8hycSdduW6z2rr7wikMQFEhDABAKchmj4AVK4IQcNdd4dSEvFrZ2pUxCAyLO2lVa1d+CwJQlCZ0aVEAQMgyBQBJuvtu6X3vy38tCE1n70DKoUGptPf0M6kYwCHoGQCAYpRNT8ATTwQ9AQSBkpPrkB+GCgEYjZ4BACgm2fQE7NwpHXVU/mtBZHYPDiU9Xh6fldN1APxFGACAIrD87KszNxoakiZNyn8xiFxFefI/3+Xx2TldB8Bf/FYAgELlnBSLaXk27eCVXPcNYL8BAKMRBgAUhM7eAbV192n34JAqysvUXF/j70THV1+VJk/O3I4Q4K3G2krNq6se0yTiprpqf3+mAKREGAAQqZG7p47m3e6pu3ZJVVUZmy2/7xtaftby/NeDgraspUFLVrdntbxozKSlLQ35LwpA0WE1IQCRYffUhK1bg4nBGYLAWbe+U8vv+0Y4NaHgNdfX6NpFsxTLMKc8ZtKKRbP9CdUAxoSeAQCRGOvuqdOqppTezczDD0unn56+TSym5a1fCz7fen/eS0JxWTx3pqZXTdWq1i61JwnVTXXVWupT7xqAMSMMAIhELrunlswNzR13SIsXp2/T1BSEBUm6f3neS0Lxaq6vUXN9DfNuAOSEMAAgdN7unvqP/yh95Svp21x6qfS974VTD0pKY21lcf98AIgEcwYAhM673VM/+tFgTkC6IHDjjcHqQAQBAECI6BkAELpUu6AOxjYf+DzZ5klFt3vqySdLTz6Zvs369dK554ZTDwAAoxAGAIQu1S6og7EtBz5PFgaKZvdUy7C8iyRt2iS97W35rwUAgDSK5C8rgFJSsrunZhMCnntOesMb8l8LAABZYM4AgNAN7546FgW9e6pZ5iCwe3cwJ4AgAAAoIIQBAJFY1tKQcbOkYQW7e2o2IWBoKAgBRxwRTk0AAIwBYQBAJIp699RsQoBzwcekSeHUBABADpgzACAyRbV76tCQdNhhmdu5LHdSAwCgABAGAERq5O6pV9y7QfuG4ppcFtN1C84sjDkCAwPS616XuR0hAABQhAgDAApCY22l5sysOujrSG3fLs2cmbkdIQAAUMSYMyDJzC4wM5f4uCjqegBE6He/C+YDZAoCw3MCAAAoYt6HATObIek7knZHXQuACN11VxAC5s5N3eZtbyMEAABKitdhwMxM0q2Sdki6KeJyAETh+uuDELBoUeo2n/hEEAA2bQqtrGGdvQPatG2n2p/eoRdeekU7du8NvQYAQOnyfc7AUknvknRW4hEoWZ29A2rr7tPuwSFVlJepub4m+nH5UfrUp6Rbb03f5rrrpC98IZx6Rmnr7tPK1i519PRrV9mLkqTB2B6tefEZTTtqit4zva8wVlkCABQ1b8OAmZ0saYWklc65B8yMMICSNPKmcrR5ddVaVihLd4ZlzhzpscfSt1m3TvrgB8OpJ4m1G7fpqnVbFE8xGum5Xa9oyep2rVg0W+fPnRFucQCAkuLlMCEzK5O0RtI2SV+OuBwgb9Zu3KYlq9uTBgFJ6ujp15LV7bpj4/aQK4vA8EZh6YJAR0cwHCjCINDW3Zc2CAyLO+nKdZvV1t0XTmEAgJLka8/A1yXNkXSGc+6VXJ7AzB5JceqknKsCJtBYbyqnVU0pzR6CTDsFS9K2bdKMwniHfWVrV8bXbFjcSatau0rzdQMAhMK7ngEza1LQG/DPzrnfRl0PkC+53FSWlOGegHReeinoCSiQINDZO5CyFyeV9p5+dfYO5KkiAECp86pnIDE86IeSOiV9bTzP5Zw7NcX3eETSKeN5biCdbCYCj+emsugnFWfTE/Dqq1JZ4f36y3XIT1t3X/G/bgCASBTeX8P8qpDUmPh80JLfNNxsZjcrmFh8WWiVARmMZSKwlzeV2YSAAt8fYPfgUNLj5fFZkqQh6x3TdQAAZOJbGNgraXWKc6comEfwoKSnJDGECAUj0+oywxOBh1eXSXVzOBjbfODz8vjsQ84X3U3l/v3ZvcNf4CFgWEV58v+W4ddqMLZlTNcBAJCJV39BEpOFL0p2zsyWKwgDP3DO3RJmXUA6uUwETnVzOPJmMlkYKJqbyt27pcosejCKJAQMy3UiMBOIAQC58m4CMVBswlxdpuBvKp97LhgOlCkIOFd0QUCSGmsrNa+uekzXNNVVF+/QLgBA5AgDQAHLdSKwpNK6qXzssSAETJ+evl2RhoCRlrU0KJbF9AdJipm0tKUhvwUBAEoaYSDBObfcOWcMEUIhGc9E4JK4qVy/PggBc+akbvOmN5VECBjWXF+jaxfNyvjaxUxasWh24ffmAAAKGmEAKGDpJgIPf6S6rphvKpvubA9CwMKFqRt95CNBAPjDH8IrLCSL587Umgub1JSid2faUVO05sImnT+3MPZHAAAUryKZLQj4abwTgRfPnanpVVO1qrXrwPChkZrqqrV0xJKkUTv3W3fr7etTbe6dcM010pe/HE5BEWqur1Fzfc1B+0r893PHaGb1VB1dcXjBvGYAgOJGGAAK2ERMBB55U3nFvRu0byiuyWUxXbfgzMKZI3DxxdItt+jt6dqsXSudf35YFRWMxtrKA6/TjvurIq4GAFBqCANAARteXWYsk4hTTQRurK3UnJlVB30duTPOkNra0rf57W+l004Lpx4AADzDnAGgwJXERODRKiqCOQHpgkBPTzAngCAAAEDe0DMAFLjhicCZNh4bORF45DjzivIyNdfXFEZPgGWRagYGgrAAAADyjjAAFIFsJwJL0vn/+tukw4rm1VWr4pg9mlk9Ne/1HiKbEPDqq1IZv5IAAAgTf3mBIpFpIvDajdvS9h509PTrpWef1btPqtWbpx0ZTtHZhIB4PLt2AABgwhEGgCKTbCJwW3dfxmFEUjAE/7+f7FXllMPyV2A8Lk2alLldiWwSBgBAMWMCMVACVrZ2ZQwCw5yT2p/eMfFFDA4G7/BnCgIltFswAADFjp4BoMh19g6MaelRSXpu1yvq7B2YmEnFO3ZINVnsh0AAGJfO3gFt2rbzwPCwCXv9AABeIwwARa6tuy/n68Z1M/nHP0r19enbNDZKTz2V+/eA2rr7tLK1Sx09/dpV9uKB4/Mff0Dz6qq1rIB2kAYAFB+GCQFFbvfgUNLjg7HNBz7Gcl1GDz8cDAdKFwQWLQp6AggC47J24zYtWd2esueno6dfS1a3646N20OuDABQKggDQJGrKE/ewTcY23LgYyzXpbRuXRACTj89dZsvfzkIAXfeObbnxiGynRQed9KV6zbn3EMEAPAbYQAocrkOEcn6uhtuCELAhz6Uus3NNwch4JprcqoFhxrLpPC4k1a1duW3IABASSIMAEWusbZS8+qqx3TNtKOmZJ4v8NnPBiHg859P3eaee4IQcNFFY/r+SC+XSeHtPf3q7B3IU0UAgFJFGABKwLKWBsWy3LfLTGo64ejUDT7/+aDRd7+bus1jjwUhYMGCsRWKrIxnUjgAAGNBGABKQHN9ja5dNCtjIDCT3n1SrWZWTz305OLFQYMbbkj9BNu3ByHgrW8dX8FIK9Xk7vL4rAMfY7kOAIBUWFoUKBGL587U9KqpWtXapfYkQ0ya6qp1xDHTDw0Cp5wibdqU9rk/fsMvdcm5b1PzdJawDEOqyd3l8dk5XQcAQCr85QBKSHN9jZrra9TZO6Ar7t1wYIOq6xacqcbaSi2//97XGh9xhLRnT9rnq7lysSrcEulPe/Wb1e1asWi2zp87I8//Fcj7pHAAABIIA0AJaqyt1JyZVQd9PWz52VdnvL78q29WuUu8C50YeTK8hOW0qincdObZ8KTwsUwibqqrZkdiAMCYEQYAHzgnxWJanqHZUV/5q+AT2yIlWdZyeAlLwkD+LWtp0JLV7VktLxozaWlLQ/6LAgCUHCYQAyVs0r6hoCcglvpHvW/qkTr+S3fr+C/dndVzsoRlOLKdFB4zacWi2QQ0AEBO6BkAStHOnZmHA51xhm5d8UNdvf7xMT99W3cfQ1JCkM2k8KUtDQQBAEDOCANAKenpkU44IX2bxkbpqackSbtT7Fpb5o5NuXylxBKWYRo5Kbytu0+7B4dUUV6m5voaAhkAYNwIA0Ap2LhRmjcvfZu/+AvpZz876FCqpSjLXG3aZSxZwjJ8jbWV3PwDACYccwaAInbig08GG4WlCwJXXBFMIB4VBCSWsAQAwHe8vQcUoXnr2nXOt+9J3+h735MuvTRtE5awBADAb4QBIIWCHKP9uc9JN96oc9K1uftu6X3vy/opWcISAAB/EQaAUdq6+7SytSvpu+Xz6qq1LIrVWxYskDZsSN/m0UelOXPG/NTDS1hetW5L2nYsYQkAQOlhzgAwwtqN27RkdXvKYTMdPf1asrpdd2zcHk5B06YFcwLSBYFnngnmBOQQBIYtnjtTay5s0rSjpiQ931RXrTUXNun8uTNy/h4AAKDw0DMAJLR19+mqdVsyDpeJO+nKdZs1rWpK/t4ltww7TUnSrl3SkUdO2Ldsrq/ReW+foR2792pb/x69e1pj4QyPAgAAeUEYABJWtnZlNW5eCgLBqtauiQ8D2YSAvXulyZMn9vuOcHTF4Tq64nD97VnMDQAAoNQxTAhQMFl4LCvqSFJ7T786ewcmpgCzzEEgHg+GA+UxCAAAAL8QBgAFQ4TCvE5ScGOfTQhw7rW2AAAAE4hhQoCk3YNDSY8PxjYf+DzZjryprktr3z7p8MMzt3NZjlkCAADIEWEAkFRRnvxHYTD22nKbycJAquuSeukl6aijMrcjBAAAgJB4N0zIzI42s4vM7C4z6zazV8zsJTN70MwuNDPv/p9AOU8Ezuq6bduCIT7pgsCf/dlrw4EAAABC4uON73mSbpbUJKld0o2S7pT0Fkm3SLrDjMHZvmmsrdS8uuoxXdNUV51+yc1HHw1CwHHHpW6zYEEQAJ5/fkzfGwAAYCL4GAY6JS2UNN0591Hn3FXOuU9JOknSdkkfkrQoygIRjWUtDYplGQNjJi1tSbH05s9/HoSAU09N/QSXXRaEgHvuGXuhAAAAE8S7MOCc+5Vzbr1zLj7q+J8k3ZT48qzQC0PkmutrdO2iWRkDQcykFYtmHzpE6KabghBw7rmpL161KggBN9ww/oIBAADGiQnEB3s18ZjDEjEoBYvnztT0qqla1dql9iT7DjTVVWtpS8PBQeCKK6Trr0//xD/9qbRw4QRXCwAAMD6EgQQzK5P0scSXGcdumNkjKU6dNGFFIRLN9TVqrq9RZ++Arrh3g/YNxTW5LKbrFpx58ByBhQul9evTP1lHhzR3bn4LBgAAyBFh4DUrFEwi/oVz7t6oi0H0GmsrNWdm1UFfS5KOP1565pn0F/f0BO0AAAAKGGFAkpktlXS5pCclLcnmGudc0tmhiR6DUyauOhSMbBaZ6u+XqqoytwMAACgA3ocBM/uspJWSHpfU4pw7dKA4vLb87KszNxoczG5XYQAAgALidRgws8sk3SDp9wqCwP9EXBIKiZmWZ2oTj2fXYwAAAFCAvA0DZvYlBfMEHpP0HudcX8QloRA4J8WyWHG3BHcK7uwd0KZtOw9MmO7sHUi/qRoAACh6XoYBM/uapL+T9Iik+QwNgvbvl8qy+HEowRDQ1t2nla1d6ujp166yFw8cn//4A5pXV61lo5dSBQAAJcO7MGBmH1cQBPZL+o2kpXboMI+tzrnbQi4NUdizRzriiPRtjj1W6u0Np56Qrd24TVet26J4iozT0dOvJavbtWLRbJ0/d0a4xQEAgLzzLgxIqks8TpJ0WYo2v5Z0WyjVIBp9fdIxx6Rvc/750tq14dQTgbbuvrRBYFjcSVeu26xpVVPoIQAAoMRkMTi6tDjnljvnLMPHWVHXiTzp6Qkm/KYLAl/8YjAcqISDgCStbO3KGASGxZ20qrUrvwUBAIDQeRcG4KlHHw1CwAknpG7zne8EIeCb3wyvroh09g6oo2dsU2Xae/rV2TuQp4oAAEAUCAMobffeG4SAU5PuERe4884gBHzmM+HVFbG27twWz8r1OgAAUJh8nDMAH/zgB9InPpG+zYMPSs3NoZRTaHYPDiU9Xh6fldN1AACgOBEGUFquuUb66lfTt3niCemkk8Kpp0BVlCf/0S+Pz87pOgAAUJz4y47ScMkl0s03p2/z3HPSG94QTj0FLtdVgVhNCACA0sKcARS3d787mBOQLgi89FIwJ4AgcEBjbaXm1VWP6Zqmump2JAYAoMQQBlCcZswIQkBra+o2e/cGIeB1rwuvriKyrKVBsUP220suZtLSlob8FgQAAEJHGEBxaWwMQsCzz6Zus39/EAImTw6vriLUXF+jaxfNyhgIYiatWDSbIUIAAJQg5gyg8DknlZVJ8XjmdhiTxXNnanrVVK1q7VJ7kn0HmuqqtbSlgSAAAECJIgygcMXj0qRJ6ZvETLH9GUIC0mqur1FzfY06ewfU1t2n3YNDqigvU3N9DXMEAAAocYQBFJ69e6Xy8rRNtr95ulZ/50JJ0vIQSvJBY20lN/8AAHiGOQMoHC+/HMwHSBcELr9ccu5AEAAAAEDuCAOI3gsvBCHgyCNTt/nWt4I5AddfH15dAAAAJY5hQohOZ6d04onp29x+u/SRj4RTDwAAgGcIAwhfe7t02mnp2/zyl8GGYgAAAMgbwgDC81//JZ1zTvo2jzwinXJKOPUAAAB4jjDgqVCXkbztNumTn0zfprtbeuMb8/P9AQAAkBRhwDNt3X1a2dqljiQbTM2rq9ayidxgasUK6aqr0rfp7ZWOPXZivh8AAADGhNWEPLJ24zYtWd2eNAhIUkdPv5asbtcdG7eP7xv97d8GqwOlCwIvvxysDkQQAAAAiAw9A55o6+7TVeu2KO7St4s76cp1mzWtasrYewgWLpTWr0/fZt8+6bDDxva8AAAAyAt6BjyxsrUrYxAYFnfSqtau7J989uygJyBdENi/P+gJIAgAAAAUDMKABzp7B1IODUqlvadfnb0D6RtNmRKEgC1bkp+vqAgCgHNSjH9qAAAAhYY7NA+0dfdN3HXxeBAAzKTBweQXvvWtQQAYyBAmAAAAECnCgAd2Dw4lPT4Y23zgI+N1+/YFAWDSpNTf6IMfDELAY4+Np1wAAACEhDDggYry5PPEB2NbDnykvG5gIAgBhx+e+hssWxaEgHXrJqJcAAAAhITVhDyQy74Bx+zeqU+ecUL6RtddJ33hCzlWBQAAgKgRBjzQWFupeXXVWU0iPm7n8/r1v12SvtGaNdIFF0xQdQAAAIgKYcATy1oatGR1e8rlRWe90KX1P/xc+ie55x5pwYKJLw4AAACRYM6AJ5rra3TtolmK2cHHz376Be265kfpg8DGjcGcAIIAAABASaFnwCOL587U9KqpWtXapZfbf6f/uvVH6S/o7JQaGsIpDgAAAKEjDHimufcpNV96RvpGL7wgvf714RQEAACAyDBMyBf33BMsEXpGmiDw8svBcCCCAAAAgBcIA6Vu7dogBLz3vcnPNzRIe/cGIaCyMtzaAAAAECnCQKm66aYgBHz4w8nPX3aZFI8H8wImTw63NgAAABQEwkCpufbaIAR8+tPJz//DPwS9ADfcELQDAACAt5hAXCp+9jPp/e9Pff6735X+5m/CqwcAAAAFz8ueATObbmbfN7PnzWyvmW01sxvNrCrq2nKyZ4/00Y8mP3f77UFPAEEAAAAAo3jXM2Bmb5T0kKRjJf1U0pOS5klaJunPzazZObcjwhLHrqxMQ+YOfjF//nPpnHOiqggAAABFwLswIOlfFASBpc65bw8fNLNvSfqcpGskXRpRbbmZPFk3ffvjOv7/PaP/Of4YfWrprVFXBAAAgCLgVRhI9ArMl7RV0ndHnf6GpEskLTGzy51z/xtyeePSd9wx6jvumKjLAAAAQBHxbc7A2YnHDc65+MgTzrkBSW2Spko6LezCAAAAgLD5FgZOTDx2pjjflXhsDKEWAAAAIFJeDROSdGTi8aUU54ePH5XpiczskRSnThprUQAAAEAUfOsZAAAAAJDgW8/A8Dv/R6Y4P3x8V6Yncs6dmux4osfglLGXBgAAAITLt56BpxKPqeYENCQeU80pAAAAAEqGb2HgvsTjfDM76L/dzColNUvaI+nhsAsDAAAAwuZVGHDO/VHSBknHS/rMqNNXSzpC0ppi22MAAAAAyIVvcwYk6W8kPSRplZm1SHpCUpOCPQg6JX0lwtoAAACA0HjVMyAd6B14u6TbFISAyyW9UdJKSac553ZEVx0AAAAQHh97BuSc2y7pk1HXAQAAAETJu54BAAAAAAHCAAAAAOApwgAAAADgKcIAAAAA4CnCAAAAAOApwgAAAADgKcIAAAAA4CnCAAAAAOApwgAAAADgKcIAAAAA4CnCAAAAAOApwgAAAADgKcIAAAAA4CnCAAAAAOApwgAAAADgKcIAAAAA4CnCAAAAAOApwgAAAADgKcIAAAAA4CnCAAAAAOApwgAAAADgKcIAAAAA4CnCAAAAAOApwgAAAADgKcIAAAAA4CnCAAAAAOApwgAAAADgKcIAAAAA4CnCAAAAAOApwgAAAADgqbKoCwDGqrN3QJu27dS+obgml8XU2TugxtrKqMsCAAAoOoQBFI227j6tbO1SR0+/dpW9eOD4/Mcf0Ly6ai1raVBzfU2EFQIAABQXhgmhKKzduE1LVrero6c/6fmOnn4tWd2uOzZuD7kyAACA4kUYQMFr6+7TVeu2KO7St4s76cp1m9XW3RdOYQAAAEWOMICCt7K1K2MQGBZ30qrWrvwWBAAAUCIIAyhonb0DKYcGpdLe06/O3oE8VQQAAFA6CAMoaLkO+WGoEAAAQGZerSZkZg2SFklaIKlBUq2knZIelnSjc+6+CMtDErsHh5IeL4/Pyuk6AAAAvMarMCDp7yUtlvS4pF9I6pd0oqSFkhaa2TLn3KoI68MoFeXJ/4mWx2fndB0AAABe49sd0z2Svumc2zTyoJm9U9IvJV1nZj92zr0QSXU4RK77BrDfAAAAQGZezRlwzt02Oggkjv9a0v2SJkt6R9h1IbXG2krNq6se0zVNddXsSAwAAJAFr8JABq8mHhlsXmCWtTQoZtm1jZm0tKUhvwUBAACUCN+GCSVlZsdJapG0R9IDWV7zSIpTJ01UXdnq7B3Qpm07tW8orsllMXXfdjPXAAAMvElEQVT2DpTUO+PN9TW6dtGsjBuPxUxasWg2Q4QAAACy5H0YMLPDJd0u6XBJX3TO7Yy4pKy1dfdpZWuXOnr6tavsxQPH5z/+gObVVWtZS0PJ3BgvnjtT06umalVrl9qT7DvQVFetpSX03wsAABCGogsDZrZV0nFjuOR259wFKZ5rkqQ1kpolrZV0fbZP6pw7NcVzPiLplDHUl5O1G7elfae8o6dfS1a3a8Wi2Tp/7ox8lxOK5voaNdfXqLN3QG3dfdo9OKSK8jI119eUVE8IAABAWIouDEj6o6TBMbR/PtnBRBD4d0nnSbpD0gXOuTSDUApHW3dfxiEzkhR30pXrNmta1ZSSese8sbaSm38AAIAJUHRhwDnXMt7nMLPDFAwNOk/S/5X0Mefc/vE+b1hWtnZlDALD4k5a1dpVUmEAAAAAE8O71YTMbLKkHysIAj+UtKSYgkBn74A6koyZT6e9p1+dvQN5qggAAADFyqswkJgsfJek90taLemTzrl4tFWNTVt3X6jXAQAAoHQV3TChcbpJ0jmS+iQ9J+nrZocsYH+/c+7+kOvK2u7B5NsglMdn5XQdAAAA/OVbGKhLPNZI+nqadvfnv5TcVJQnf8nK47Nzug4AAAD+8uoO0Tl3VtQ1jFeuE4GZQAwAAIDRvJozUAoaays1r656TNc01VWzFCcAAAAOQRgoQstaGhQ7ZKpDcjGTlrY05LcgAAAAFCXCQBFqrq/RtYtmZQwEMZNWLJrNECEAAAAk5dWcgVKyeO5MTa+aqlWtXWpPsu9AU121lrY0EAQAAACQEmGgiDXX16i5vkadvQNq6+7T7sEhVZSXqbm+hjkCAAAAyIgwUAIaayu5+QcAAMCYMWcAAAAA8BRhAAAAAPAUYQAAAADwFGEAAAAA8BRhAAAAAPAUYQAAAADwFGEAAAAA8BRhAAAAAPAUYQAAAADwFGEAAAAA8JQ556KuoaSY2Y4pU6ZUn3zyyVGXAgAAgBL2xBNP6JVXXul3zh2d63MQBiaYmfVIep2krRPwdCclHp+cgOdC8eH19xuvv994/f3G6++3sbz+x0t62TlXl+s3IwwUMDN7RJKcc6dGXQvCx+vvN15/v/H6+43X329hv/7MGQAAAAA8RRgAAAAAPEUYAAAAADxFGAAAAAA8RRgAAAAAPMVqQgAAAICn6BkAAAAAPEUYAAAAADxFGAAAAAA8RRgAAAAAPEUYAAAAADxFGAAAAAA8RRgAAAAAPEUYKEBmNt3Mvm9mz5vZXjPbamY3mllV1LUhf8zsaDO7yMzuMrNuM3vFzF4yswfN7EIz4+fVM2Z2gZm5xMdFUdeDcJhZS+L3wJ8SfwOeN7N7zeycqGtDfpnZ+8xsg5k9m/gb8LSZ/djMTo+6NkwMM/tLM/u2mf3GzF5O/H7/9wzXvMPMfmFm/Yl/F5vN7DIzmzQRNZVNxJNg4pjZGyU9JOlYST+V9KSkeZKWSfpzM2t2zu2IsETkz3mSvifpBUn3SdomqVbSIkm3SHqvmZ3n2CnQC2Y2Q9J3JO2WVBFxOQiJmf2TpCskPSvpZ5L6JB0j6VRJZ0n6RWTFIa/M7JuSvihph6SfKHjt6yW9X9KHzOxjzrm0N40oCl+V9FYFv9uflXRSusZm9n5Jd0oalLRWUr+kv5B0g6RmBfcO48IOxAXGzO6VNF/SUufct0cc/5akz0n6V+fcpVHVh/wxs3dJOkLSz51z8RHHXy+pQ9IMSX/pnLszohIREjMzSb+UVCdpnaQvSLrYOXdLpIUhr8zsYkn/JukHki5xzu0bdf4w59yrkRSHvEr8nn9O0ouSZjvn/mfEubMl/UpSj3PuhIhKxARJvJ7PSuqW9E4Fb/7d7py7IEnb1yXaHSmp2Tn3u8TxcgX/Jk6X9FfOuf8YT00MOyggiV6B+ZK2SvruqNPfkPS/kpaY2REhl4YQOOd+5ZxbPzIIJI7/SdJNiS/PCr0wRGGppHdJ+qSCn3uUODM7XNI1CnoEDwkCkkQQKGnHKbgnax8ZBCTJOXefpAEFPUQocs65+5xzXVn28v+lgtf9P4aDQOI5BhX0MEjSp8dbE2GgsJydeNyQ5IZwQFKbpKmSTgu7MERu+CZgKNIqkHdmdrKkFZJWOuceiLoehOY9Cv7or5MUT4wd/5KZLWO8uBe6JO2TNM/MakaeMLMzJVVK+u8oCkOk3pV4vCfJuQck7ZH0jsSbCTljzkBhOTHx2JnifJeCnoNGSa2hVITImVmZpI8lvkz2CwElIvFar1Hw7vCXIy4H4ZqbeByUtEnSW0aeNLMHFAwTfDHswpB/zrl+M/uSpG9JetzMfqJg7sAbJS1UMGzwryMsEdFIeV/onBsysx5Jb5Z0gqQncv0mhIHCcmTi8aUU54ePHxVCLSgcKxTcGPzCOXdv1MUgr74uaY6kM5xzr0RdDEJ1bOLxCkmPS/o/kh5TMG/kegVvBP1YDBUsWc65G81sq6TvS7p4xKluSbeNHj4EL4RyX8gwIaCAmdlSSZcrWFVqScTlII/MrElBb8A/O+d+G3U9CN3w3+MhSQudcw8653Y757ZI+qCCCYfvZMhQ6TKzL0r6T0m3KegROELBKlJPS7o9sdIUMOEIA4VlOOEdmeL88PFdIdSCiJnZZyWtVPAu4dnOuf6IS0KeJIYH/VBBV/DXIi4H0Rj+vb7JObd15Ann3B5Jw72C88IsCuEws7MkfVPSz5xzn3fOPe2c2+Oce1RBGHxO0uVmxmpCfgnlvpAwUFieSjw2pjjfkHhMNacAJcLMLpP0bUm/VxAE/hRxScivCgU/9ydLGhyx0ZhTsJKYJN2cOHZjZFUin4Z//6f6o74z8TglhFoQvnMTj/eNPpEIgx0K7tnmhFkUIpfyvjDxJlKdgt7Ep8fzTZgzUFiGfwnMN7PYqLXmKxVsLrFH0sNRFIdwJCaRrVAwXvg9zrm+iEtC/u2VtDrFuVMU3AA8qOAPA0OISlOrJCfpTaN//ycMTyjuCbcshGR4NZhUy4cOHz9kyVmUtF9J+qikP5f0o1HnzlSwwuQDzrm94/km9AwUEOfcHyVtkHS8pM+MOn21gvGDa5xzrDteoszsawqCwCOSWggCfnDOveKcuyjZh4JdaCXpB4lja6OsFfnhnHtG0npJMxXsOH+Amc2XtEBBrwEripWm3yQeLzGzaSNPmNl7FbwZOCjpobALQ6T+U8FO1B82s7cPH0xsOvYPiS+/N95vwg7EBSax8dhDClaW+KmCpaKaFOxB0CnpHc65HdFViHwxs48rmDi2X8EQoWSrB2x1zt0WYlmImJktVzBUiB2IS5yZTVfw+3+Ggp6CTQqGAXxAQa/Bh9mBvDSZWUzBvJB3K9hg7C5Jf1IwdPBcSSbpMufcysiKxIQwsw8o+JmWpNcrCPpP67VA2Oec+8Ko9v+pIAz+h6R+BcvNnpg4fn6WG5ilrokwUHjMbIakv1PQLXS0pBcU/GK42jm3M921KF4jbvrS+bVz7qz8V4NCQRjwi5kdo2CJ2YWS/kzSywpuEq51znVEWRvyy8wOUzAq4MOS3qRgCEi/gvkCq5xzGyIsDxMki7/1zzjnjh91TbOkr0g6XVK5guVmv6/g38X+cddEGAAAAAD8xJwBAAAAwFOEAQAAAMBThAEAAADAU4QBAAAAwFOEAQAAAMBThAEAAADAU4QBAAAAwFOEAQAAAMBThAEAAADAU4QBAAAAwFOEAQAAAMBThAEAAADAU4QBAAAAwFOEAQAAAMBThAEAAADAU4QBAEDozOwnZubMbGmSc3+fOLc6itoAwCfmnIu6BgCAZ8ysWtImSbWSTnfObUocb5G0QdKTkuY65/ZEVyUAlD7CAAAgEmb2Dkm/ltQj6RRJR0h6TNKRCoLAHyIsDwC8wDAhAEAknHMPSfqapAZJ/yppjaTXS1pKEACAcNAzAACIjJmZpHskzU8c+pFz7iMRlgQAXqFnAAAQGRe8I7VuxKEbo6oFAHxEzwAAIDJm1iDpUUmvKpgr8AdJ85xzg5EWBgCeoGcAABAJMztc0loFE4cXS7pW0izROwAAoSEMAACicr2kOZL+yTn3S0nfkNQm6a/N7LxIKwMATzBMCAAQOjP7oIK5Au2SznDODSWOz1CwvGiZpDnOuaejqxIASh9hAAAQKjObqeCGPybpbc65raPOv1/STyRtVBAU9oVeJAB4gjAAAAAAeIo5AwAAAICnCAMAAACApwgDAAAAgKcIAwAAAICnCAMAAACApwgDAAAAgKcIAwAAAICnCAMAAACApwgDAAAAgKcIAwAAAICnCAMAAACApwgDAAAAgKcIAwAAAICnCAMAAACApwgDAAAAgKcIAwAAAICnCAMAAACAp/4/L9RNGBuI8kIAAAAASUVORK5CYII=\n",
                "text/plain": "<Figure size 432x288 with 1 Axes>"
              }
            ],
            "_view_module": "@jupyter-widgets/output",
            "_model_module_version": "1.0.0",
            "_view_count": null,
            "_view_module_version": "1.0.0",
            "layout": "IPY_MODEL_9cca352a4f504926a4c54956e3b2df30",
            "_model_module": "@jupyter-widgets/output"
          }
        },
        "bb663d2070ef4445a53ffe561be73749": {
          "model_module": "@jupyter-widgets/controls",
          "model_name": "SliderStyleModel",
          "state": {
            "_view_name": "StyleView",
            "handle_color": null,
            "_model_name": "SliderStyleModel",
            "description_width": "",
            "_view_module": "@jupyter-widgets/base",
            "_model_module_version": "1.5.0",
            "_view_count": null,
            "_view_module_version": "1.2.0",
            "_model_module": "@jupyter-widgets/controls"
          }
        },
        "f29f14de20c242c985e73c87602bb513": {
          "model_module": "@jupyter-widgets/base",
          "model_name": "LayoutModel",
          "state": {
            "_view_name": "LayoutView",
            "grid_template_rows": null,
            "right": null,
            "justify_content": null,
            "_view_module": "@jupyter-widgets/base",
            "overflow": null,
            "_model_module_version": "1.2.0",
            "_view_count": null,
            "flex_flow": null,
            "width": null,
            "min_width": null,
            "border": null,
            "align_items": null,
            "bottom": null,
            "_model_module": "@jupyter-widgets/base",
            "top": null,
            "grid_column": null,
            "overflow_y": null,
            "overflow_x": null,
            "grid_auto_flow": null,
            "grid_area": null,
            "grid_template_columns": null,
            "flex": null,
            "_model_name": "LayoutModel",
            "justify_items": null,
            "grid_row": null,
            "max_height": null,
            "align_content": null,
            "visibility": null,
            "align_self": null,
            "height": null,
            "min_height": null,
            "padding": null,
            "grid_auto_rows": null,
            "grid_gap": null,
            "max_width": null,
            "order": null,
            "_view_module_version": "1.2.0",
            "grid_template_areas": null,
            "object_position": null,
            "object_fit": null,
            "grid_auto_columns": null,
            "margin": null,
            "display": null,
            "left": null
          }
        },
        "9cca352a4f504926a4c54956e3b2df30": {
          "model_module": "@jupyter-widgets/base",
          "model_name": "LayoutModel",
          "state": {
            "_view_name": "LayoutView",
            "grid_template_rows": null,
            "right": null,
            "justify_content": null,
            "_view_module": "@jupyter-widgets/base",
            "overflow": null,
            "_model_module_version": "1.2.0",
            "_view_count": null,
            "flex_flow": null,
            "width": null,
            "min_width": null,
            "border": null,
            "align_items": null,
            "bottom": null,
            "_model_module": "@jupyter-widgets/base",
            "top": null,
            "grid_column": null,
            "overflow_y": null,
            "overflow_x": null,
            "grid_auto_flow": null,
            "grid_area": null,
            "grid_template_columns": null,
            "flex": null,
            "_model_name": "LayoutModel",
            "justify_items": null,
            "grid_row": null,
            "max_height": null,
            "align_content": null,
            "visibility": null,
            "align_self": null,
            "height": null,
            "min_height": null,
            "padding": null,
            "grid_auto_rows": null,
            "grid_gap": null,
            "max_width": null,
            "order": null,
            "_view_module_version": "1.2.0",
            "grid_template_areas": null,
            "object_position": null,
            "object_fit": null,
            "grid_auto_columns": null,
            "margin": null,
            "display": null,
            "left": null
          }
        }
      }
    }
  },
  "cells": [
    {
      "cell_type": "markdown",
      "metadata": {
        "id": "view-in-github",
        "colab_type": "text"
      },
      "source": [
        "<a href=\"https://colab.research.google.com/github/GeralDuque/course-content/blob/master/tutorials/W1D3_ModelFitting/student/W1D3_Tutorial1.ipynb\" target=\"_parent\"><img src=\"https://colab.research.google.com/assets/colab-badge.svg\" alt=\"Open In Colab\"/></a>"
      ]
    },
    {
      "cell_type": "markdown",
      "metadata": {
        "id": "L-8hEOXGZOFd"
      },
      "source": [
        "# Tutorial 1: Linear regression with MSE\n",
        "**Week 1, Day 3: Model Fitting**\n",
        "\n",
        "**By Neuromatch Academy**\n",
        "\n",
        "**Content creators**: Pierre-Étienne Fiquet, Anqi Wu, Alex Hyafil with help from Byron Galbraith\n",
        "\n",
        "**Content reviewers**: Lina Teichmann, Saeed Salehi, Patrick Mineault,  Ella Batty, Michael Waskom\n",
        "\n",
        "\n",
        "\n"
      ]
    },
    {
      "cell_type": "markdown",
      "metadata": {
        "id": "Uzhb1goiZOFi"
      },
      "source": [
        "**Our 2021 Sponsors, including Presenting Sponsor Facebook Reality Labs**\n",
        "\n",
        "<p align='center'><img src='https://github.com/NeuromatchAcademy/widgets/blob/master/sponsors.png?raw=True'/></p>"
      ]
    },
    {
      "cell_type": "markdown",
      "metadata": {
        "id": "DcgjaSwiZOFk"
      },
      "source": [
        "___\n",
        "# Tutorial Objectives\n",
        "\n",
        "*Estimated timing of tutorial: 30 minutes*\n",
        "\n",
        "This is Tutorial 1 of a series on fitting models to data. We start with simple linear regression, using least squares optimization (Tutorial 1) and Maximum Likelihood Estimation (Tutorial 2). We will use bootstrapping to build confidence intervals around the inferred linear model parameters (Tutorial 3). We'll finish our exploration of regression models by generalizing to multiple linear regression and polynomial regression (Tutorial 4). We end by learning how to choose between these various models. We discuss the bias-variance trade-off (Tutorial 5) and Cross Validation for model selection (Tutorial 6).\n",
        "\n",
        "In this tutorial, we will learn how to fit simple linear models to data.\n",
        "- Learn how to calculate the mean-squared error (MSE) \n",
        "- Explore how model parameters (slope) influence the MSE\n",
        "- Learn how to find the optimal model parameter using least-squares optimization\n",
        "\n",
        "---\n",
        "\n",
        "**acknowledgements:** \n",
        "- we thank Eero Simoncelli, much of today's tutorials are inspired by exercises asigned in his mathtools class."
      ]
    },
    {
      "cell_type": "code",
      "metadata": {
        "cellView": "form",
        "execution": {
          "iopub.execute_input": "2021-07-06T22:27:30.360214Z",
          "iopub.status.busy": "2021-07-06T22:27:30.359451Z",
          "iopub.status.idle": "2021-07-06T22:27:30.377570Z",
          "shell.execute_reply": "2021-07-06T22:27:30.378088Z"
        },
        "id": "gSraz98KZOFl",
        "outputId": "d70c84f5-eb0c-4814-b576-84b7f4948254",
        "colab": {
          "base_uri": "https://localhost:8080/",
          "height": 501
        }
      },
      "source": [
        "# @title Tutorial slides\n",
        "\n",
        "# @markdown These are the slides for the videos in all tutorials today\n",
        "from IPython.display import IFrame\n",
        "IFrame(src=f\"https://mfr.ca-1.osf.io/render?url=https://osf.io/2mkq4/?direct%26mode=render%26action=download%26mode=render\", width=854, height=480)"
      ],
      "execution_count": 1,
      "outputs": [
        {
          "output_type": "execute_result",
          "data": {
            "text/html": [
              "\n",
              "        <iframe\n",
              "            width=\"854\"\n",
              "            height=\"480\"\n",
              "            src=\"https://mfr.ca-1.osf.io/render?url=https://osf.io/2mkq4/?direct%26mode=render%26action=download%26mode=render\"\n",
              "            frameborder=\"0\"\n",
              "            allowfullscreen\n",
              "        ></iframe>\n",
              "        "
            ],
            "text/plain": [
              "<IPython.lib.display.IFrame at 0x7f49df5fa150>"
            ]
          },
          "metadata": {
            "tags": []
          },
          "execution_count": 1
        }
      ]
    },
    {
      "cell_type": "markdown",
      "metadata": {
        "id": "spm6zSOSZOFn"
      },
      "source": [
        "---\n",
        "# Setup"
      ]
    },
    {
      "cell_type": "code",
      "metadata": {
        "cellView": "both",
        "execution": {
          "iopub.execute_input": "2021-07-06T22:27:30.382549Z",
          "iopub.status.busy": "2021-07-06T22:27:30.382011Z",
          "iopub.status.idle": "2021-07-06T22:27:32.362334Z",
          "shell.execute_reply": "2021-07-06T22:27:32.362763Z"
        },
        "id": "NKgp-OWCZOFo"
      },
      "source": [
        "import numpy as np\n",
        "import matplotlib.pyplot as plt"
      ],
      "execution_count": 7,
      "outputs": []
    },
    {
      "cell_type": "code",
      "metadata": {
        "cellView": "form",
        "execution": {
          "iopub.execute_input": "2021-07-06T22:27:32.368922Z",
          "iopub.status.busy": "2021-07-06T22:27:32.367000Z",
          "iopub.status.idle": "2021-07-06T22:27:32.454609Z",
          "shell.execute_reply": "2021-07-06T22:27:32.453903Z"
        },
        "id": "6qwugiAWZOFp",
        "outputId": "aa93f038-4679-4898-ab91-c49584a5e3ad",
        "colab": {
          "base_uri": "https://localhost:8080/",
          "height": 197
        }
      },
      "source": [
        "#@title Figure Settings\n",
        "import ipywidgets as widgets       # interactive display\n",
        "%config InlineBackend.figure_format = 'retina'\n",
        "plt.style.use(\"https://raw.githubusercontent.com/NeuromatchAcademy/course-content/master/nma.mplstyle\")"
      ],
      "execution_count": 2,
      "outputs": [
        {
          "output_type": "error",
          "ename": "NameError",
          "evalue": "ignored",
          "traceback": [
            "\u001b[0;31m---------------------------------------------------------------------------\u001b[0m",
            "\u001b[0;31mNameError\u001b[0m                                 Traceback (most recent call last)",
            "\u001b[0;32m<ipython-input-2-218f1fa9b7bf>\u001b[0m in \u001b[0;36m<module>\u001b[0;34m()\u001b[0m\n\u001b[1;32m      2\u001b[0m \u001b[0;32mimport\u001b[0m \u001b[0mipywidgets\u001b[0m \u001b[0;32mas\u001b[0m \u001b[0mwidgets\u001b[0m       \u001b[0;31m# interactive display\u001b[0m\u001b[0;34m\u001b[0m\u001b[0;34m\u001b[0m\u001b[0m\n\u001b[1;32m      3\u001b[0m \u001b[0mget_ipython\u001b[0m\u001b[0;34m(\u001b[0m\u001b[0;34m)\u001b[0m\u001b[0;34m.\u001b[0m\u001b[0mmagic\u001b[0m\u001b[0;34m(\u001b[0m\u001b[0;34m\"config InlineBackend.figure_format = 'retina'\"\u001b[0m\u001b[0;34m)\u001b[0m\u001b[0;34m\u001b[0m\u001b[0;34m\u001b[0m\u001b[0m\n\u001b[0;32m----> 4\u001b[0;31m \u001b[0mplt\u001b[0m\u001b[0;34m.\u001b[0m\u001b[0mstyle\u001b[0m\u001b[0;34m.\u001b[0m\u001b[0muse\u001b[0m\u001b[0;34m(\u001b[0m\u001b[0;34m\"https://raw.githubusercontent.com/NeuromatchAcademy/course-content/master/nma.mplstyle\"\u001b[0m\u001b[0;34m)\u001b[0m\u001b[0;34m\u001b[0m\u001b[0;34m\u001b[0m\u001b[0m\n\u001b[0m",
            "\u001b[0;31mNameError\u001b[0m: name 'plt' is not defined"
          ]
        }
      ]
    },
    {
      "cell_type": "code",
      "metadata": {
        "cellView": "form",
        "execution": {
          "iopub.execute_input": "2021-07-06T22:27:32.460380Z",
          "iopub.status.busy": "2021-07-06T22:27:32.459866Z",
          "iopub.status.idle": "2021-07-06T22:27:32.461820Z",
          "shell.execute_reply": "2021-07-06T22:27:32.462194Z"
        },
        "id": "B8QO4qXjZOFq"
      },
      "source": [
        "#@title Plotting Functions\n",
        "\n",
        "def plot_observed_vs_predicted(x, y, y_hat, theta_hat):\n",
        "  \"\"\" Plot observed vs predicted data\n",
        "\n",
        "  Args:\n",
        "    x (ndarray): observed x values\n",
        "    y (ndarray): observed y values\n",
        "    y_hat (ndarray): predicted y values\n",
        "    theta_hat (ndarray):\n",
        "  \"\"\"\n",
        "  fig, ax = plt.subplots()\n",
        "  ax.scatter(x, y, label='Observed')  # our data scatter plot\n",
        "  ax.plot(x, y_hat, color='r', label='Fit')  # our estimated model\n",
        "  # plot residuals\n",
        "  ymin = np.minimum(y, y_hat)\n",
        "  ymax = np.maximum(y, y_hat)\n",
        "  ax.vlines(x, ymin, ymax, 'g', alpha=0.5, label='Residuals')\n",
        "  ax.set(\n",
        "      title=fr\"$\\hat{{\\theta}}$ = {theta_hat:0.2f}, MSE = {mse(x, y, theta_hat):.2f}\",\n",
        "      xlabel='x',\n",
        "      ylabel='y'\n",
        "  )\n",
        "  ax.legend()"
      ],
      "execution_count": 5,
      "outputs": []
    },
    {
      "cell_type": "markdown",
      "metadata": {
        "id": "dAFsSQkiZOFs"
      },
      "source": [
        "---\n",
        "# Section 1: Mean Squared Error (MSE)"
      ]
    },
    {
      "cell_type": "code",
      "metadata": {
        "cellView": "form",
        "execution": {
          "iopub.execute_input": "2021-07-06T22:27:32.472225Z",
          "iopub.status.busy": "2021-07-06T22:27:32.464135Z",
          "iopub.status.idle": "2021-07-06T22:27:32.581804Z",
          "shell.execute_reply": "2021-07-06T22:27:32.582278Z"
        },
        "id": "zLKO7ZPqZOFt",
        "outputId": "575fab6d-116c-4877-eab8-6e37e845f674",
        "colab": {
          "base_uri": "https://localhost:8080/",
          "height": 580,
          "referenced_widgets": [
            "9836a087f5f747b88d04585efad69156",
            "57bafce5bd2242d79ed850bad9f09d5f",
            "531eba52eb76493c8a23c715147a7c81",
            "09695dd3b4904cc891094ce69f1d81bf",
            "fa6f294c40104a16b08940c1c0f6bc52",
            "67d3d11a06dc4c0db73046990533d9cf"
          ]
        }
      },
      "source": [
        "# @title Video 1: Linear Regression & Mean Squared Error\n",
        "from ipywidgets import widgets\n",
        "\n",
        "out2 = widgets.Output()\n",
        "with out2:\n",
        "  from IPython.display import IFrame\n",
        "  class BiliVideo(IFrame):\n",
        "      def __init__(self, id, page=1, width=400, height=300, **kwargs):\n",
        "          self.id=id\n",
        "          src = 'https://player.bilibili.com/player.html?bvid={0}&page={1}'.format(id, page)\n",
        "          super(BiliVideo, self).__init__(src, width, height, **kwargs)\n",
        "\n",
        "  video = BiliVideo(id=\"BV1tA411e7NW\", width=854, height=480, fs=1)\n",
        "  print('Video available at https://www.bilibili.com/video/{0}'.format(video.id))\n",
        "  display(video)\n",
        "\n",
        "out1 = widgets.Output()\n",
        "with out1:\n",
        "  from IPython.display import YouTubeVideo\n",
        "  video = YouTubeVideo(id=\"HumajfjJ37E\", width=854, height=480, fs=1, rel=0)\n",
        "  print('Video available at https://youtube.com/watch?v=' + video.id)\n",
        "  display(video)\n",
        "\n",
        "out = widgets.Tab([out1, out2])\n",
        "out.set_title(0, 'Youtube')\n",
        "out.set_title(1, 'Bilibili')\n",
        "\n",
        "display(out)"
      ],
      "execution_count": 3,
      "outputs": [
        {
          "output_type": "display_data",
          "data": {
            "application/vnd.jupyter.widget-view+json": {
              "model_id": "9836a087f5f747b88d04585efad69156",
              "version_minor": 0,
              "version_major": 2
            },
            "text/plain": [
              "Tab(children=(Output(), Output()), _titles={'0': 'Youtube', '1': 'Bilibili'})"
            ]
          },
          "metadata": {
            "tags": []
          }
        }
      ]
    },
    {
      "cell_type": "markdown",
      "metadata": {
        "id": "WkExVsMzZOFu"
      },
      "source": [
        "This video covers a 1D linear regression and mean squared error.\n",
        "\n",
        "<details>\n",
        "<summary> <font color='blue'>Click here for text recap of video </font></summary>\n",
        "\n",
        "**Linear least squares regression** is an old but gold  optimization procedure that we are going to use for data fitting. Least squares (LS) optimization problems are those in which the objective function is a quadratic function of the\n",
        "parameter(s) being optimized.\n",
        "\n",
        "Suppose you have a set of measurements: for each data point or measurement, you have $y_{i}$ (the \"dependent\" variable) obtained for a different input value, $x_{i}$ (the \"independent\" or \"explanatory\" variable).  Suppose we believe the measurements are proportional to the input values, but are corrupted by some (random) measurement errors, $\\epsilon_{i}$, that is:\n",
        "\n",
        "\\begin{align}\n",
        "y_{i}= \\theta x_{i}+\\epsilon_{i}\n",
        "\\end{align}\n",
        "\n",
        "for some unknown slope parameter $\\theta.$ The least squares regression problem uses **mean squared error (MSE)** as its objective function, it aims to find the value of the parameter $\\theta$ by minimizing the average of squared errors:\n",
        "\n",
        "\\begin{align}\n",
        "\\min _{\\theta} \\frac{1}{N}\\sum_{i=1}^{N}\\left(y_{i}-\\theta x_{i}\\right)^{2}\n",
        "\\end{align}"
      ]
    },
    {
      "cell_type": "markdown",
      "metadata": {
        "id": "-btkL0DUZOFw"
      },
      "source": [
        "We will now explore how MSE is used in fitting a linear regression model to data. For illustrative purposes, we will create a simple synthetic dataset where we know the true underlying model. This will allow us to see how our estimation efforts compare in uncovering the real model (though in practice we rarely have this luxury).\n",
        "\n",
        "First we will generate some noisy samples $x$ from [0, 10) along the line $y = 1.2x$ as our dataset we wish to fit a model to."
      ]
    },
    {
      "cell_type": "code",
      "metadata": {
        "cellView": "form",
        "execution": {
          "iopub.execute_input": "2021-07-06T22:27:32.608715Z",
          "iopub.status.busy": "2021-07-06T22:27:32.608139Z",
          "iopub.status.idle": "2021-07-06T22:27:32.885369Z",
          "shell.execute_reply": "2021-07-06T22:27:32.884897Z"
        },
        "id": "EJUCDhNKZOFx",
        "outputId": "6b628cc9-b1f0-4cc0-96f4-460e9cfdcc45",
        "colab": {
          "base_uri": "https://localhost:8080/",
          "height": 278
        }
      },
      "source": [
        "# @title\n",
        "\n",
        "# @markdown Execute this cell to generate some simulated data\n",
        "\n",
        "# setting a fixed seed to our random number generator ensures we will always\n",
        "# get the same psuedorandom number sequence\n",
        "np.random.seed(121)\n",
        "\n",
        "# Let's set some parameters\n",
        "theta = 1.2\n",
        "n_samples = 30\n",
        "\n",
        "# Draw x and then calculate y\n",
        "x = 10 * np.random.rand(n_samples)  # sample from a uniform distribution over [0,10)\n",
        "noise = np.random.randn(n_samples)  # sample from a standard normal distribution\n",
        "y = theta * x + noise\n",
        "\n",
        "# Plot the results\n",
        "fig, ax = plt.subplots()\n",
        "ax.scatter(x, y)  # produces a scatter plot\n",
        "ax.set(xlabel='x', ylabel='y');"
      ],
      "execution_count": 9,
      "outputs": [
        {
          "output_type": "display_data",
          "data": {
            "image/png": "[encoded data removed]",
            "text/plain": [
              "<Figure size 432x288 with 1 Axes>"
            ]
          },
          "metadata": {
            "tags": [],
            "image/png": {
              "width": 385,
              "height": 261
            },
            "needs_background": "light"
          }
        }
      ]
    },
    {
      "cell_type": "markdown",
      "metadata": {
        "id": "vIkImke0ZOFz"
      },
      "source": [
        "Now that we have our suitably noisy dataset, we can start trying to estimate the underlying model that produced it. We use MSE to evaluate how successful a particular slope estimate $\\hat{\\theta}$ is for explaining the data, with the closer to 0 the MSE is, the better our estimate fits the data."
      ]
    },
    {
      "cell_type": "markdown",
      "metadata": {
        "id": "9XEBCzuTZOF0"
      },
      "source": [
        "## Coding Exercise 1: Compute MSE\n",
        "\n",
        "In this exercise you will implement a method to compute the mean squared error for a set of inputs $\\mathbf{x}$, measurements $\\mathbf{y}$, and slope estimate $\\hat{\\theta}$. Here, $\\mathbf{x}$ and $\\mathbf{y}$ are vectors of data points. We will then compute and print the mean squared error for 3 different choices of theta.\n",
        "\n",
        "As a reminder, the equation for computing the estimated y for a single data point is:\n",
        "\n",
        "$$\\hat{y}_{i}= \\theta x_{i}$$\n",
        "\n",
        "and for mean squared error is:\n",
        "\n",
        "\\begin{align}\n",
        "\\min _{\\theta} \\frac{1}{N}\\sum_{i=1}^{N}\\left(y_{i}-\\hat{y}_i\\right)^{2}\n",
        "\\end{align}"
      ]
    },
    {
      "cell_type": "code",
      "metadata": {
        "execution": {
          "iopub.execute_input": "2021-07-06T22:27:32.893919Z",
          "iopub.status.busy": "2021-07-06T22:27:32.892471Z",
          "iopub.status.idle": "2021-07-06T22:27:32.962332Z",
          "shell.execute_reply": "2021-07-06T22:27:32.960879Z"
        },
        "id": "3Pm4AcALZOF1",
        "outputId": "ac192861-e134-4103-c727-c1567e1933a5",
        "colab": {
          "base_uri": "https://localhost:8080/"
        }
      },
      "source": [
        "def mse(x, y, theta_hat):\n",
        "  \"\"\"Compute the mean squared error\n",
        "\n",
        "  Args:\n",
        "    x (ndarray): An array of shape (samples,) that contains the input values.\n",
        "    y (ndarray): An array of shape (samples,) that contains the corresponding\n",
        "      measurement values to the inputs.\n",
        "    theta_hat (float): An estimate of the slope parameter\n",
        "\n",
        "  Returns:\n",
        "    float: The mean squared error of the data with the estimated parameter.\n",
        "  \"\"\"\n",
        "  ####################################################\n",
        "  ## TODO for students: compute the mean squared error\n",
        "  # Fill out function and remove\n",
        "  # raise NotImplementedError(\"Student exercise: compute the mean squared error\")\n",
        "  ####################################################\n",
        "\n",
        "  # Compute the estimated y\n",
        "  y_hat = theta_hat*x\n",
        "\n",
        "  # Compute mean squared error\n",
        "  mse = np.mean((y-y_hat)**2)\n",
        "\n",
        "  return mse\n",
        "\n",
        "\n",
        "theta_hats = [0.75, 1.0, 1.5]\n",
        "for theta_hat in theta_hats:\n",
        "  print(f\"theta_hat of {theta_hat} has an MSE of {mse(x, y, theta_hat):.2f}\")"
      ],
      "execution_count": 10,
      "outputs": [
        {
          "output_type": "stream",
          "text": [
            "theta_hat of 0.75 has an MSE of 9.08\n",
            "theta_hat of 1.0 has an MSE of 3.01\n",
            "theta_hat of 1.5 has an MSE of 4.52\n"
          ],
          "name": "stdout"
        }
      ]
    },
    {
      "cell_type": "markdown",
      "metadata": {
        "cellView": "both",
        "execution": {
          "iopub.execute_input": "2021-07-06T22:27:32.970539Z",
          "iopub.status.busy": "2021-07-06T22:27:32.969798Z",
          "iopub.status.idle": "2021-07-06T22:27:32.972131Z",
          "shell.execute_reply": "2021-07-06T22:27:32.972527Z"
        },
        "id": "0mfCuPtxZOF2"
      },
      "source": [
        "[*Click for solution*](https://github.com/NeuromatchAcademy/course-content/tree/master//tutorials/W1D3_ModelFitting/solutions/W1D3_Tutorial1_Solution_12a57de0.py)\n",
        "\n"
      ]
    },
    {
      "cell_type": "markdown",
      "metadata": {
        "id": "rnTkSIYiZOF3"
      },
      "source": [
        "The result should be:\n",
        "\n",
        "theta_hat of 0.75 has an MSE of 9.08\\\n",
        "theta_hat of 1.0 has an MSE of 3.0\\\n",
        "theta_hat of 1.5 has an MSE of 4.52\n",
        "\n",
        "\n",
        "\n"
      ]
    },
    {
      "cell_type": "markdown",
      "metadata": {
        "id": "A4Cv-HbBZOF3"
      },
      "source": [
        "We see that $\\hat{\\theta} = 1.0$ is our best estimate from the three we tried. Looking just at the raw numbers, however, isn't always satisfying, so let's visualize what our estimated model looks like over the data. \n",
        "\n"
      ]
    },
    {
      "cell_type": "code",
      "metadata": {
        "cellView": "form",
        "execution": {
          "iopub.execute_input": "2021-07-06T22:27:33.032106Z",
          "iopub.status.busy": "2021-07-06T22:27:32.991892Z",
          "iopub.status.idle": "2021-07-06T22:27:33.725277Z",
          "shell.execute_reply": "2021-07-06T22:27:33.725797Z"
        },
        "id": "1jHYixJhZOF4",
        "outputId": "ee7169f4-8864-48e9-ff03-612ad6c60f3e",
        "colab": {
          "base_uri": "https://localhost:8080/",
          "height": 316
        }
      },
      "source": [
        "#@title\n",
        "\n",
        "#@markdown Execute this cell to visualize estimated models\n",
        "\n",
        "fig, axes = plt.subplots(ncols=3, figsize=(18, 4))\n",
        "for theta_hat, ax in zip(theta_hats, axes):\n",
        "\n",
        "  # True data\n",
        "  ax.scatter(x, y, label='Observed')  # our data scatter plot\n",
        "\n",
        "  # Compute and plot predictions\n",
        "  y_hat = theta_hat * x\n",
        "  ax.plot(x, y_hat, color='r', label='Fit')  # our estimated model\n",
        "\n",
        "  ax.set(\n",
        "      title= fr'$\\hat{{\\theta}}$= {theta_hat}, MSE = {mse(x, y, theta_hat):.2f}',\n",
        "      xlabel='x',\n",
        "      ylabel='y'\n",
        "  );\n",
        "\n",
        "axes[0].legend()"
      ],
      "execution_count": 11,
      "outputs": [
        {
          "output_type": "execute_result",
          "data": {
            "text/plain": [
              "<matplotlib.legend.Legend at 0x7f49de9df7d0>"
            ]
          },
          "metadata": {
            "tags": []
          },
          "execution_count": 11
        },
        {
          "output_type": "display_data",
          "data": {
            "image/png": "[encoded data removed]",
            "text/plain": [
              "<Figure size 1296x288 with 3 Axes>"
            ]
          },
          "metadata": {
            "tags": [],
            "image/png": {
              "width": 1055,
              "height": 282
            },
            "needs_background": "light"
          }
        }
      ]
    },
    {
      "cell_type": "markdown",
      "metadata": {
        "id": "Z4Eo6hsmZOF4"
      },
      "source": [
        "## Interactive Demo 1: MSE Explorer\n",
        "\n",
        "Using an interactive widget, we can easily see how changing our slope estimate changes our model fit. We display the **residuals**, the differences between observed and predicted data, as line segments between the data point (observed response) and the corresponding predicted response on the model fit line.\n",
        "\n",
        "- What value of $\\hat{\\theta}$ results in the lowest MSE?\n",
        "- Is this a good way of estimating $\\theta$?\n"
      ]
    },
    {
      "cell_type": "code",
      "metadata": {
        "cellView": "form",
        "execution": {
          "iopub.execute_input": "2021-07-06T22:27:33.744675Z",
          "iopub.status.busy": "2021-07-06T22:27:33.742639Z",
          "iopub.status.idle": "2021-07-06T22:27:34.095136Z",
          "shell.execute_reply": "2021-07-06T22:27:34.093961Z"
        },
        "id": "RftBFx8vZOF5",
        "outputId": "87a6a2ae-ee5c-46ed-eb15-1032243a862e",
        "colab": {
          "base_uri": "https://localhost:8080/",
          "height": 331,
          "referenced_widgets": [
            "b3de1d67424b47518f9733a31a2761bc",
            "04b658ffeb0c4f51b41f3387b1dec903",
            "89c549cd4a2f4ffb82197d4c0222d472",
            "95f4b75f6a884dc79633c7a1ed0c66b3",
            "bb663d2070ef4445a53ffe561be73749",
            "f29f14de20c242c985e73c87602bb513",
            "9cca352a4f504926a4c54956e3b2df30"
          ]
        }
      },
      "source": [
        "#@title\n",
        "\n",
        "#@markdown Make sure you execute this cell to enable the widget!\n",
        "\n",
        "@widgets.interact(theta_hat=widgets.FloatSlider(1.0, min=0.0, max=2.0))\n",
        "def plot_data_estimate(theta_hat):\n",
        "  y_hat = theta_hat * x\n",
        "  plot_observed_vs_predicted(x, y, y_hat, theta_hat)"
      ],
      "execution_count": 12,
      "outputs": [
        {
          "output_type": "display_data",
          "data": {
            "application/vnd.jupyter.widget-view+json": {
              "model_id": "b3de1d67424b47518f9733a31a2761bc",
              "version_minor": 0,
              "version_major": 2
            },
            "text/plain": [
              "interactive(children=(FloatSlider(value=1.0, description='theta_hat', max=2.0), Output()), _dom_classes=('widg…"
            ]
          },
          "metadata": {
            "tags": []
          }
        }
      ]
    },
    {
      "cell_type": "markdown",
      "metadata": {
        "execution": {
          "iopub.execute_input": "2021-07-06T22:27:34.099961Z",
          "iopub.status.busy": "2021-07-06T22:27:34.099470Z",
          "iopub.status.idle": "2021-07-06T22:27:34.103930Z",
          "shell.execute_reply": "2021-07-06T22:27:34.104637Z"
        },
        "id": "uKUtdINOZOF6"
      },
      "source": [
        "[*Click for solution*](https://github.com/NeuromatchAcademy/course-content/tree/master//tutorials/W1D3_ModelFitting/solutions/W1D3_Tutorial1_Solution_d5c4912a.py)\n",
        "\n"
      ]
    },
    {
      "cell_type": "markdown",
      "metadata": {
        "id": "a3V4ibWbZOF7"
      },
      "source": [
        "While visually exploring several estimates can be instructive, it's not the most efficient for finding the best estimate to fit our data. Another technique we can use is choose a reasonable range of parameter values and compute the MSE at several values in that interval. This allows us to plot the error against the parameter value (this is also called an **error landscape**, especially when we deal with more than one parameter). We can select the final $\\hat{\\theta}$  ($\\hat{\\theta}_\\textrm{MSE}$) as the one which results in the lowest error."
      ]
    },
    {
      "cell_type": "code",
      "metadata": {
        "cellView": "form",
        "execution": {
          "iopub.execute_input": "2021-07-06T22:27:34.146895Z",
          "iopub.status.busy": "2021-07-06T22:27:34.116202Z",
          "iopub.status.idle": "2021-07-06T22:27:34.510085Z",
          "shell.execute_reply": "2021-07-06T22:27:34.509387Z"
        },
        "id": "le0J-0P3ZOF8",
        "outputId": "e42bce0e-d788-4a2d-8465-74253bb3eb8c",
        "colab": {
          "base_uri": "https://localhost:8080/",
          "height": 303
        }
      },
      "source": [
        "# @title\n",
        "\n",
        "# @markdown Execute this cell to loop over theta_hats, compute MSE, and plot results\n",
        "\n",
        "# Loop over different thetas, compute MSE for each\n",
        "theta_hat_grid = np.linspace(-2.0, 4.0)\n",
        "errors = np.zeros(len(theta_hat_grid))\n",
        "for i, theta_hat in enumerate(theta_hat_grid):\n",
        "  errors[i] = mse(x, y, theta_hat)\n",
        "\n",
        "# Find theta that results in lowest error\n",
        "best_error = np.min(errors)\n",
        "theta_hat = theta_hat_grid[np.argmin(errors)]\n",
        "\n",
        "\n",
        "# Plot results\n",
        "fig, ax = plt.subplots()\n",
        "ax.plot(theta_hat_grid, errors, '-o', label='MSE', c='C1')\n",
        "ax.axvline(theta, color='g', ls='--', label=r\"$\\theta_{True}$\")\n",
        "ax.axvline(theta_hat, color='r', ls='-', label=r\"$\\hat{{\\theta}}_{MSE}$\")\n",
        "ax.set(\n",
        "  title=fr\"Best fit: $\\hat{{\\theta}}$ = {theta_hat:.2f}, MSE = {best_error:.2f}\",\n",
        "  xlabel=r\"$\\hat{{\\theta}}$\",\n",
        "  ylabel='MSE')\n",
        "ax.legend();"
      ],
      "execution_count": 13,
      "outputs": [
        {
          "output_type": "display_data",
          "data": {
            "image/png": "[encoded data removed]",
            "text/plain": [
              "<Figure size 432x288 with 1 Axes>"
            ]
          },
          "metadata": {
            "tags": [],
            "image/png": {
              "width": 388,
              "height": 286
            },
            "needs_background": "light"
          }
        }
      ]
    },
    {
      "cell_type": "markdown",
      "metadata": {
        "id": "6i23POq2ZOF9"
      },
      "source": [
        "We can see that our best fit is $\\hat{\\theta}=1.18$ with an MSE of 1.45. This is quite close to the original true value $\\theta=1.2$!\n"
      ]
    },
    {
      "cell_type": "markdown",
      "metadata": {
        "id": "8_3QfguAZOF9"
      },
      "source": [
        "---\n",
        "# Section 2: Least-squares optimization\n",
        "\n",
        "*Estimated timing to here from start of tutorial: 20 min*\n",
        "\n",
        "While the approach detailed above (computing MSE at various values of $\\hat\\theta$) quickly got us to a good estimate, it still relied on evaluating the MSE value across a grid of hand-specified values. If we didn't pick a good range to begin with, or with enough granularity, we might miss the best possible estimator. Let's go one step further, and instead of finding the minimum MSE from a set of candidate estimates, let's solve for it analytically.\n",
        "\n",
        "We can do this by minimizing the cost function. Mean squared error is a convex objective function, therefore we can compute its minimum using calculus. Please see video or Bonus Section 1 for this derivation! After computing the minimum, we find that:\n",
        "\n",
        "\\begin{align}\n",
        "\\hat\\theta = \\frac{\\mathbf{x}^\\top \\mathbf{y}}{\\mathbf{x}^\\top \\mathbf{x}}\n",
        "\\end{align}\n",
        "where $\\mathbf{x}$ and $\\mathbf{y}$ are vectors of data points.\n",
        "\n",
        "This is known as solving the normal equations. For different ways of obtaining the solution, see the notes on [Least Squares Optimization](https://www.cns.nyu.edu/~eero/NOTES/leastSquares.pdf) by Eero Simoncelli."
      ]
    },
    {
      "cell_type": "markdown",
      "metadata": {
        "id": "vgzTL368ZOF-"
      },
      "source": [
        "## Coding Exercise 2: Solve for the Optimal Estimator\n",
        "\n",
        "In this exercise, you will write a function that finds the optimal $\\hat{\\theta}$ value using the least squares optimization approach (the equation above) to solve MSE minimization. It shoud take arguments $x$ and $y$ and return the solution $\\hat{\\theta}$.\n",
        "\n",
        "We will then use your function to compute $\\hat{\\theta}$ and plot the resulting prediction on top of the data. "
      ]
    },
    {
      "cell_type": "code",
      "metadata": {
        "execution": {
          "iopub.execute_input": "2021-07-06T22:27:34.523045Z",
          "iopub.status.busy": "2021-07-06T22:27:34.517960Z",
          "iopub.status.idle": "2021-07-06T22:27:34.528626Z",
          "shell.execute_reply": "2021-07-06T22:27:34.526910Z"
        },
        "id": "92G-tDlZZOF-",
        "outputId": "132aef9f-fd12-47e3-ba30-bf099b90c668",
        "colab": {
          "base_uri": "https://localhost:8080/",
          "height": 299
        }
      },
      "source": [
        "def solve_normal_eqn(x, y):\n",
        "  \"\"\"Solve the normal equations to produce the value of theta_hat that minimizes\n",
        "    MSE.\n",
        "\n",
        "    Args:\n",
        "    x (ndarray): An array of shape (samples,) that contains the input values.\n",
        "    y (ndarray): An array of shape (samples,) that contains the corresponding\n",
        "      measurement values to the inputs.\n",
        "\n",
        "  Returns:\n",
        "    float: the value for theta_hat arrived from minimizing MSE\n",
        "  \"\"\"\n",
        "\n",
        "  ################################################################################\n",
        "  ## TODO for students: solve for the best parameter using least squares\n",
        "  # Fill out function and remove\n",
        "  # raise NotImplementedError(\"Student exercise: solve for theta_hat using least squares\")\n",
        "  ################################################################################\n",
        "\n",
        "  # Compute theta_hat analytically\n",
        "  theta_hat = (np.dot(x,y))/(np.dot(x,x))\n",
        "\n",
        "  return theta_hat\n",
        "\n",
        "\n",
        "theta_hat = solve_normal_eqn(x, y)\n",
        "y_hat = theta_hat * x\n",
        "plot_observed_vs_predicted(x, y, y_hat, theta_hat)"
      ],
      "execution_count": 21,
      "outputs": [
        {
          "output_type": "display_data",
          "data": {
            "image/png": "[encoded data removed]",
            "text/plain": [
              "<Figure size 432x288 with 1 Axes>"
            ]
          },
          "metadata": {
            "tags": [],
            "image/png": {
              "width": 385,
              "height": 282
            },
            "needs_background": "light"
          }
        }
      ]
    },
    {
      "cell_type": "code",
      "metadata": {
        "id": "Bm2RBzAUf0F_",
        "outputId": "6751875c-0172-40d5-ca8d-8685d77b0ca2",
        "colab": {
          "base_uri": "https://localhost:8080/"
        }
      },
      "source": [
        "(x.T)@x\n",
        "(np.dot(x,y))/(np.dot(x,x))\n",
        "\n",
        "#@ es multiplicacion de matrices\n",
        "#Cuando multiplico con * lo entiende como un array, multiplica elemento a elemento"
      ],
      "execution_count": 26,
      "outputs": [
        {
          "output_type": "execute_result",
          "data": {
            "text/plain": [
              "1.2084421298265953"
            ]
          },
          "metadata": {
            "tags": []
          },
          "execution_count": 26
        }
      ]
    },
    {
      "cell_type": "code",
      "metadata": {
        "id": "LUAqu8KEhGm1",
        "outputId": "4d4de1db-718d-4863-d5b6-4054af67b654",
        "colab": {
          "base_uri": "https://localhost:8080/"
        }
      },
      "source": [
        "#x\n",
        "x*np.zeros(x.shape)\n",
        "#(np.transpose(x))*y"
      ],
      "execution_count": 25,
      "outputs": [
        {
          "output_type": "execute_result",
          "data": {
            "text/plain": [
              "array([0., 0., 0., 0., 0., 0., 0., 0., 0., 0., 0., 0., 0., 0., 0., 0., 0.,\n",
              "       0., 0., 0., 0., 0., 0., 0., 0., 0., 0., 0., 0., 0.])"
            ]
          },
          "metadata": {
            "tags": []
          },
          "execution_count": 25
        }
      ]
    },
    {
      "cell_type": "markdown",
      "metadata": {
        "cellView": "both",
        "execution": {
          "iopub.execute_input": "2021-07-06T22:27:34.557761Z",
          "iopub.status.busy": "2021-07-06T22:27:34.547665Z",
          "iopub.status.idle": "2021-07-06T22:27:34.942822Z",
          "shell.execute_reply": "2021-07-06T22:27:34.942117Z"
        },
        "id": "H7G1U1PKZOF-"
      },
      "source": [
        "[*Click for solution*](https://github.com/NeuromatchAcademy/course-content/tree/master//tutorials/W1D3_ModelFitting/solutions/W1D3_Tutorial1_Solution_7a89ba24.py)\n",
        "\n",
        "*Example output:*\n",
        "\n",
        "<img alt='Solution hint' align='left' width=1116.0 height=828.0 src=https://raw.githubusercontent.com/NeuromatchAcademy/course-content/master/tutorials/W1D3_ModelFitting/static/W1D3_Tutorial1_Solution_7a89ba24_0.png>\n",
        "\n"
      ]
    },
    {
      "cell_type": "markdown",
      "metadata": {
        "id": "DNOcxqvOZOF_"
      },
      "source": [
        "We see that the analytic solution produces an even better result than our grid search from before, producing $\\hat{\\theta} = 1.21$ with MSE = 1.43!"
      ]
    },
    {
      "cell_type": "markdown",
      "metadata": {
        "id": "aEwmpA9LZOF_"
      },
      "source": [
        "---\n",
        "# Summary\n",
        "\n",
        "*Estimated timing of tutorial: 30 minutes*\n",
        "\n",
        "Linear least squares regression is an optimization procedure that can be used for data fitting:\n",
        "\n",
        "  - Task: predict a value for $y_i$ given $x_i$\n",
        "  - Performance measure: $\\textrm{MSE}$\n",
        "  - Procedure: minimize $\\textrm{MSE}$ by solving the normal equations\n",
        "\n",
        "**Key point**: We fit the model by defining an *objective function* and minimizing it. \n",
        "\n",
        "**Note**: In this case, there is an *analytical* solution to the minimization problem and in practice, this solution can be computed using *linear algebra*. This is *extremely* powerful and forms the basis for much of numerical computation throughout the sciences."
      ]
    },
    {
      "cell_type": "markdown",
      "metadata": {
        "id": "3EAhSaYgZOGA"
      },
      "source": [
        "# Notation\n",
        "\\begin{align}\n",
        "x_{i} &\\quad \\text{input, independent variable}\\\\\n",
        "y_{i} &\\quad \\text{measurement, dependent variable}\\\\\n",
        "\\mathbf{x} &\\quad \\text{vector of input values}\\\\\n",
        "\\mathbf{y} &\\quad \\text{vector of measurements}\\\\\n",
        "\\hat{y}_{i} &\\quad \\text{estimate of dependent variable}\\\\\n",
        "\\epsilon_{i} &\\quad \\text{measurement error}\\\\\n",
        "\\theta &\\quad \\text{slope parameter}\\\\\n",
        "\\hat{\\theta} &\\quad \\text{estimated slope parameter}\\\\\n",
        "\\hat{\\theta}_\\text{MSE} &\\quad \\text{slope parameter estimated via the mean squared error}\\\\\n",
        "\\textrm{MSE} &\\quad \\text{mean squared error}\\\\\n",
        "\\end{align}"
      ]
    },
    {
      "cell_type": "markdown",
      "metadata": {
        "id": "ZfcWg2F_ZOGA"
      },
      "source": [
        "---\n",
        "# Bonus"
      ]
    },
    {
      "cell_type": "markdown",
      "metadata": {
        "id": "5b3VqUhPZOGB"
      },
      "source": [
        "---\n",
        "## Bonus Section 1: Least Squares Optimization Derivation\n",
        "\n",
        "We will outline here the derivation of the least squares solution.\n",
        "\n",
        "We first set the derivative of the error expression with respect to $\\theta$ equal to zero, \n",
        "\n",
        "\\begin{align}\n",
        "\\frac{d}{d\\theta}\\frac{1}{N}\\sum_{i=1}^N(y_i - \\theta x_i)^2 = 0 \\\\\n",
        "\\frac{1}{N}\\sum_{i=1}^N-2x_i(y_i - \\theta x_i) = 0\n",
        "\\end{align}\n",
        "\n",
        "where we used the chain rule. Now solving for $\\theta$, we obtain an optimal value of:\n",
        "\n",
        "\\begin{align}\n",
        "\\hat\\theta = \\frac{\\sum_{i=1}^N x_i y_i}{\\sum_{i=1}^N x_i^2}\n",
        "\\end{align}\n",
        "\n",
        "Which we can write in vector notation as:\n",
        "\n",
        "\\begin{align}\n",
        "\\hat\\theta = \\frac{\\mathbf{x}^\\top \\mathbf{y}}{\\mathbf{x}^\\top \\mathbf{x}}\n",
        "\\end{align}\n",
        "\n",
        "\n",
        "This is known as solving the *normal equations*. For different ways of obtaining the solution, see the notes on [Least Squares Optimization](https://www.cns.nyu.edu/~eero/NOTES/leastSquares.pdf) by Eero Simoncelli."
      ]
    }
  ]
}